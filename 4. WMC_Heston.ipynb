{
 "cells": [
  {
   "cell_type": "code",
   "execution_count": 1,
   "id": "eb99ccb7",
   "metadata": {},
   "outputs": [],
   "source": [
    "import pandas as pd \n",
    "import numpy as np \n",
    "\n",
    "import matplotlib.pyplot as plt\n",
    "\n",
    "from scipy.stats import norm\n",
    "\n",
    "import warnings\n",
    "warnings.filterwarnings('ignore', category=RuntimeWarning)\n",
    "warnings.filterwarnings('ignore', category=DeprecationWarning)\n",
    "\n",
    "np.set_printoptions(suppress=True)\n",
    "\n",
    "from __Function__ import *\n",
    "\n",
    "np.random.seed(42)"
   ]
  },
  {
   "cell_type": "markdown",
   "id": "2f21606c",
   "metadata": {},
   "source": [
    "# Importing Data"
   ]
  },
  {
   "cell_type": "code",
   "execution_count": 2,
   "id": "d91c651a",
   "metadata": {},
   "outputs": [],
   "source": [
    "path = r'C:\\Users\\baris\\Desktop\\Master Thesis\\1. Python\\Data\\Option_Calibration_SPX_18072025_WMC.csv'\n",
    "df = pd.read_csv(path, index_col=None)\n",
    "spx_price = 6296.79"
   ]
  },
  {
   "cell_type": "markdown",
   "id": "2ed15b3a",
   "metadata": {},
   "source": [
    "# Calibration of the Weighted Monte Carlo under Heston Model"
   ]
  },
  {
   "cell_type": "code",
   "execution_count": null,
   "id": "297f330e",
   "metadata": {},
   "outputs": [],
   "source": [
    "def simulate_heston(S0, V0, r, kappa, theta, sigma_v, rho, N, N_steps):\n",
    "    dt = 1/252 # Amplitude of step\n",
    "    epsilon = 1e-10\n",
    "    S = np.zeros((N, N_steps + 1))\n",
    "    V = np.zeros((N, N_steps + 1))\n",
    "    S[:, 0] = S0\n",
    "    V[:, 0] = V0\n",
    "    for t in range(1, N_steps + 1):\n",
    "        Z1 = np.random.randn(N)\n",
    "        Z2 = rho * Z1 + np.sqrt(1 - rho**2) * np.random.randn(N)\n",
    "        V_prev = np.maximum(V[:, t - 1], 0)\n",
    "        V[:, t] = V_prev + kappa * (theta - V_prev) * dt + sigma_v * np.sqrt(V_prev + epsilon) * np.sqrt(dt) * Z2\n",
    "        V[:, t] = np.maximum(V[:, t], 0)\n",
    "        S[:, t] = S[:, t - 1] * np.exp((r - 0.5 * V_prev) * dt + np.sqrt(V_prev + epsilon) * np.sqrt(dt) * Z1)\n",
    "    return S"
   ]
  },
  {
   "cell_type": "code",
   "execution_count": 4,
   "id": "c24e1a78",
   "metadata": {},
   "outputs": [],
   "source": [
    "S0 = spx_price\n",
    "r = 0.0408 # data from 18 july 2025\n",
    "T_max = np.max(df['Maturity'].to_numpy('float'))\n",
    "market_prices = df['Price'].to_numpy('float')\n",
    "strikes = df['Strike'].to_numpy('float')\n",
    "average_IV = df['IV'].mean()\n",
    "\n",
    "kappa = 1.5\n",
    "rho = -0.5\n",
    "volvol = 0.6\n",
    "theta = 0.03\n",
    "var0 = df['IV'].mean() ** 2"
   ]
  },
  {
   "cell_type": "code",
   "execution_count": 5,
   "id": "c0ffdf62",
   "metadata": {},
   "outputs": [],
   "source": [
    "dates = sorted(set(df['Maturity'])) # Sort maturity \n",
    "dates_day = np.array([int(np.ceil(date * 252)) for date in dates]) # Convert the maturity to number of steps\n",
    "\n",
    "dt = 1/252 # Amplitude of step\n",
    "N_paths = 50_000 # Number of path\n",
    "N_steps = int(np.ceil(T_max / dt)) # Max number of needed step"
   ]
  },
  {
   "cell_type": "code",
   "execution_count": 6,
   "id": "029495ce",
   "metadata": {},
   "outputs": [],
   "source": [
    "simulated_prices = simulate_heston(S0, var0, r, kappa, theta, volvol, rho, N_paths, N_steps)\n",
    "discount_factor = np.exp(-r*np.array(dates)) # The discount factor for different maturity"
   ]
  },
  {
   "cell_type": "code",
   "execution_count": 7,
   "id": "44a94753",
   "metadata": {},
   "outputs": [],
   "source": [
    "g=np.array(np.zeros(shape=(N_paths, len(df))))    # initialize payoff matrix (V x N) \n",
    "C=np.zeros(shape=(len(df)))                       # initialize price vector (N)"
   ]
  },
  {
   "cell_type": "code",
   "execution_count": 8,
   "id": "0137fe25",
   "metadata": {},
   "outputs": [],
   "source": [
    "# Calculate the PV of payoffs for all the instruments\n",
    "time_list = sorted(set(df['Maturity']))\n",
    "\n",
    "for i, row in enumerate(df.values):\n",
    "    time_index = time_list.index(row[0])\n",
    "    date_index = dates_day[time_index]\n",
    "    if df['Strike'][i] == 0:\n",
    "        g[:, i] = (row[2] - simulated_prices[:, date_index]) * discount_factor[time_index]\n",
    "        C[i]=row[1]\n",
    "    else:\n",
    "        g[:, i] = np.maximum((simulated_prices[:, date_index] - row[1]), 0) * discount_factor[time_index]\n",
    "        C[i]=row[2]"
   ]
  },
  {
   "cell_type": "code",
   "execution_count": 9,
   "id": "ced846f3",
   "metadata": {},
   "outputs": [
    {
     "name": "stdout",
     "output_type": "stream",
     "text": [
      "payoff: (50000, 36)\n",
      "market_prices: (36,)\n"
     ]
    }
   ],
   "source": [
    "print(\"payoff:\", g.shape)\n",
    "print(\"market_prices:\", np.array(market_prices).shape)"
   ]
  },
  {
   "cell_type": "code",
   "execution_count": 10,
   "id": "b20db949",
   "metadata": {},
   "outputs": [],
   "source": [
    "# Normalisation\n",
    "g_normalize = g / spx_price\n",
    "C_normalize = C / spx_price"
   ]
  },
  {
   "cell_type": "code",
   "execution_count": 11,
   "id": "4e72fa74",
   "metadata": {},
   "outputs": [
    {
     "data": {
      "text/plain": [
       "  message: CONVERGENCE: NORM OF PROJECTED GRADIENT <= PGTOL\n",
       "  success: True\n",
       "   status: 0\n",
       "      fun: 10.634372221159088\n",
       "        x: [-3.751e+01  3.431e+01 ...  3.730e+00 -3.336e+00]\n",
       "      nit: 103\n",
       "      jac: [-7.208e-06 -8.509e-06 ...  9.187e-06  1.462e-06]\n",
       "     nfev: 121\n",
       "     njev: 121\n",
       " hess_inv: <36x36 LbfgsInvHessProduct with dtype=float64>"
      ]
     },
     "execution_count": 11,
     "metadata": {},
     "output_type": "execute_result"
    }
   ],
   "source": [
    "w = WMC(g_normalize, C_normalize)\n",
    "w.solve(options={'maxiter': 1e6, 'ftol': 1e-12}, e=1e-5, fPrime=True)\n",
    "w.opt_result"
   ]
  },
  {
   "cell_type": "code",
   "execution_count": 12,
   "id": "d922b53d",
   "metadata": {},
   "outputs": [],
   "source": [
    "WMC_lambda = w.lambda_ # Store lambda values\n",
    "WMC_weights = np.array(w.p).flatten() # Store optimal weights"
   ]
  },
  {
   "cell_type": "code",
   "execution_count": 13,
   "id": "53dc6361",
   "metadata": {},
   "outputs": [],
   "source": [
    "g_WMC = np.array(np.zeros(shape=(N_paths, len(df))))  \n",
    "C_WMC = np.zeros(shape=(len(df)))"
   ]
  },
  {
   "cell_type": "code",
   "execution_count": 14,
   "id": "1f5d71de",
   "metadata": {},
   "outputs": [],
   "source": [
    "# Calculate the PV of payoffs for all the instruments with the WMC calibration\n",
    "time_list = sorted(set(df['Maturity']))\n",
    "\n",
    "for i, row in enumerate(df.values):\n",
    "    time_index = time_list.index(row[0])\n",
    "    date_index = dates_day[time_index]\n",
    "    if df['Strike'][i] == 0:\n",
    "        g_WMC[:, i] = (simulated_prices[:, date_index] * WMC_weights).sum()\n",
    "        C_WMC[i] = g_WMC[:, i].mean()\n",
    "    else:\n",
    "        g_WMC[:, i] = np.maximum(((simulated_prices[:, date_index] - row[1]) * WMC_weights), 0).sum() * discount_factor[time_index]\n",
    "        C_WMC[i] = g_WMC[:, i].mean()"
   ]
  },
  {
   "cell_type": "code",
   "execution_count": 15,
   "id": "58b7dda4",
   "metadata": {},
   "outputs": [],
   "source": [
    "df['WMC_Heston'] = C_WMC\n",
    "df['Error'] = abs((df['WMC_Heston'] - market_prices))"
   ]
  },
  {
   "cell_type": "code",
   "execution_count": 16,
   "id": "04ea34d1",
   "metadata": {},
   "outputs": [
    {
     "data": {
      "text/plain": [
       "(np.float64(0.8508557624315682), np.float64(0.4256459985741081))"
      ]
     },
     "execution_count": 16,
     "metadata": {},
     "output_type": "execute_result"
    }
   ],
   "source": [
    "df['Error'].mean(), df['Error'].median()"
   ]
  },
  {
   "cell_type": "markdown",
   "id": "cacf629f",
   "metadata": {},
   "source": [
    "# Summary of the Weighted Monte Carlo Calibration under Heston "
   ]
  },
  {
   "cell_type": "code",
   "execution_count": 17,
   "id": "b461ba18",
   "metadata": {},
   "outputs": [],
   "source": [
    "# Import the full data to compare how good is our calibrated BS model\n",
    "path = r'C:\\Users\\baris\\Desktop\\Master Thesis\\1. Python\\Data\\Option_Data_SPX_18072025.csv'  \n",
    "df_pricing = pd.read_csv(path, index_col=None)[['Maturity', 'Strike', 'Price']] "
   ]
  },
  {
   "cell_type": "code",
   "execution_count": 18,
   "id": "21013f5c",
   "metadata": {},
   "outputs": [],
   "source": [
    "strikes_pricing = df_pricing['Strike'].to_numpy('float')\n",
    "maturity_pricing = df_pricing['Maturity'].to_numpy('float')\n",
    "\n",
    "dates = sorted(set(df_pricing['Maturity']))\n",
    "discount_factor = np.exp(-r*np.array(dates)) "
   ]
  },
  {
   "cell_type": "code",
   "execution_count": 19,
   "id": "2f8a08a0",
   "metadata": {},
   "outputs": [],
   "source": [
    "g_WMC = np.array(np.zeros(shape=(N_paths, len(df_pricing))))    # initialize payoff matrix  (V x N) \n",
    "C_WMC = np.zeros(shape=(len(df_pricing)))                       # initialize price vector (N)"
   ]
  },
  {
   "cell_type": "code",
   "execution_count": 20,
   "id": "525a16b9",
   "metadata": {},
   "outputs": [],
   "source": [
    "# Calculate the PV of payoffs for all the instruments\n",
    "time_list = sorted(set(df_pricing['Maturity']))\n",
    "dates_day = np.array([int(np.ceil(date * 252)) for date in dates])\n",
    "\n",
    "for i, row in enumerate(df_pricing.values):\n",
    "    time_index = time_list.index(row[0])\n",
    "    date_index = dates_day[time_index]\n",
    "    g_WMC[:, i] = np.maximum(((simulated_prices[:, date_index] - row[1]) * WMC_weights), 0).sum() * discount_factor[time_index]\n",
    "    C_WMC[i]= g_WMC[:, i].mean()"
   ]
  },
  {
   "cell_type": "code",
   "execution_count": 21,
   "id": "99695149",
   "metadata": {},
   "outputs": [],
   "source": [
    "df_pricing['WMC_Heston'] = g_WMC.mean(axis=0)\n",
    "df_pricing['Error'] = abs((df_pricing['WMC_Heston'] - df_pricing['Price']))"
   ]
  },
  {
   "cell_type": "code",
   "execution_count": 22,
   "id": "c0c90db2",
   "metadata": {},
   "outputs": [
    {
     "data": {
      "text/html": [
       "<div>\n",
       "<style scoped>\n",
       "    .dataframe tbody tr th:only-of-type {\n",
       "        vertical-align: middle;\n",
       "    }\n",
       "\n",
       "    .dataframe tbody tr th {\n",
       "        vertical-align: top;\n",
       "    }\n",
       "\n",
       "    .dataframe thead th {\n",
       "        text-align: right;\n",
       "    }\n",
       "</style>\n",
       "<table border=\"1\" class=\"dataframe\">\n",
       "  <thead>\n",
       "    <tr style=\"text-align: right;\">\n",
       "      <th></th>\n",
       "      <th>Metric Maturity</th>\n",
       "      <th>Mean Eror (abs)</th>\n",
       "    </tr>\n",
       "  </thead>\n",
       "  <tbody>\n",
       "    <tr>\n",
       "      <th>0</th>\n",
       "      <td>Mean (Filtered for maturity &lt; 0.3, Price = 143...</td>\n",
       "      <td>3.3016</td>\n",
       "    </tr>\n",
       "    <tr>\n",
       "      <th>1</th>\n",
       "      <td>Mean (Filtered for maturity &gt;= 0.3 and &lt; 0.6, ...</td>\n",
       "      <td>4.8428</td>\n",
       "    </tr>\n",
       "    <tr>\n",
       "      <th>2</th>\n",
       "      <td>Mean (Filtered for maturity &gt;= 0.6, Price = 35...</td>\n",
       "      <td>7.3273</td>\n",
       "    </tr>\n",
       "  </tbody>\n",
       "</table>\n",
       "</div>"
      ],
      "text/plain": [
       "                                     Metric Maturity Mean Eror (abs)\n",
       "0  Mean (Filtered for maturity < 0.3, Price = 143...          3.3016\n",
       "1  Mean (Filtered for maturity >= 0.3 and < 0.6, ...          4.8428\n",
       "2  Mean (Filtered for maturity >= 0.6, Price = 35...          7.3273"
      ]
     },
     "execution_count": 22,
     "metadata": {},
     "output_type": "execute_result"
    }
   ],
   "source": [
    "maturity_error = Comparaison.comparaison_maturity(df_pricing)\n",
    "maturity_error"
   ]
  },
  {
   "cell_type": "code",
   "execution_count": 23,
   "id": "408aefb6",
   "metadata": {},
   "outputs": [
    {
     "data": {
      "text/html": [
       "<div>\n",
       "<style scoped>\n",
       "    .dataframe tbody tr th:only-of-type {\n",
       "        vertical-align: middle;\n",
       "    }\n",
       "\n",
       "    .dataframe tbody tr th {\n",
       "        vertical-align: top;\n",
       "    }\n",
       "\n",
       "    .dataframe thead th {\n",
       "        text-align: right;\n",
       "    }\n",
       "</style>\n",
       "<table border=\"1\" class=\"dataframe\">\n",
       "  <thead>\n",
       "    <tr style=\"text-align: right;\">\n",
       "      <th></th>\n",
       "      <th>Metric Strike</th>\n",
       "      <th>Mean Eror (abs)</th>\n",
       "    </tr>\n",
       "  </thead>\n",
       "  <tbody>\n",
       "    <tr>\n",
       "      <th>0</th>\n",
       "      <td>Mean (Filtered for strike &lt; 100, Price = 357.6...</td>\n",
       "      <td>8.2710</td>\n",
       "    </tr>\n",
       "    <tr>\n",
       "      <th>1</th>\n",
       "      <td>Mean (Filtered for strike &gt;= 100 and &lt; 105, Pr...</td>\n",
       "      <td>3.4760</td>\n",
       "    </tr>\n",
       "    <tr>\n",
       "      <th>2</th>\n",
       "      <td>Mean (Filtered for strike &gt;= 105, Price = 75.9...</td>\n",
       "      <td>1.4785</td>\n",
       "    </tr>\n",
       "  </tbody>\n",
       "</table>\n",
       "</div>"
      ],
      "text/plain": [
       "                                       Metric Strike Mean Eror (abs)\n",
       "0  Mean (Filtered for strike < 100, Price = 357.6...          8.2710\n",
       "1  Mean (Filtered for strike >= 100 and < 105, Pr...          3.4760\n",
       "2  Mean (Filtered for strike >= 105, Price = 75.9...          1.4785"
      ]
     },
     "execution_count": 23,
     "metadata": {},
     "output_type": "execute_result"
    }
   ],
   "source": [
    "strike_error = Comparaison.comparaison_strike(df_pricing, spx_price)\n",
    "strike_error"
   ]
  },
  {
   "cell_type": "code",
   "execution_count": 24,
   "id": "fec965e4",
   "metadata": {},
   "outputs": [
    {
     "data": {
      "text/html": [
       "<div>\n",
       "<style scoped>\n",
       "    .dataframe tbody tr th:only-of-type {\n",
       "        vertical-align: middle;\n",
       "    }\n",
       "\n",
       "    .dataframe tbody tr th {\n",
       "        vertical-align: top;\n",
       "    }\n",
       "\n",
       "    .dataframe thead th {\n",
       "        text-align: right;\n",
       "    }\n",
       "</style>\n",
       "<table border=\"1\" class=\"dataframe\">\n",
       "  <thead>\n",
       "    <tr style=\"text-align: right;\">\n",
       "      <th></th>\n",
       "      <th>Metric Surface</th>\n",
       "      <th>Mean Eror (abs)</th>\n",
       "    </tr>\n",
       "  </thead>\n",
       "  <tbody>\n",
       "    <tr>\n",
       "      <th>0</th>\n",
       "      <td>Mean (Filtered for price &lt; 81.70$, 20% Quantile)</td>\n",
       "      <td>0.8335</td>\n",
       "    </tr>\n",
       "    <tr>\n",
       "      <th>1</th>\n",
       "      <td>Mean (Filtered for price &gt; 81.70$, 20% Quantile)</td>\n",
       "      <td>5.7189</td>\n",
       "    </tr>\n",
       "    <tr>\n",
       "      <th>2</th>\n",
       "      <td>Mean (Filtered for price &gt; 214.65$, 50% Quantile)</td>\n",
       "      <td>7.7176</td>\n",
       "    </tr>\n",
       "    <tr>\n",
       "      <th>3</th>\n",
       "      <td>Mean (Filtered for price &gt; 370.98$, 80% Quantile)</td>\n",
       "      <td>8.9573</td>\n",
       "    </tr>\n",
       "    <tr>\n",
       "      <th>4</th>\n",
       "      <td>Mean</td>\n",
       "      <td>4.7169</td>\n",
       "    </tr>\n",
       "    <tr>\n",
       "      <th>5</th>\n",
       "      <td>Median</td>\n",
       "      <td>2.0224</td>\n",
       "    </tr>\n",
       "  </tbody>\n",
       "</table>\n",
       "</div>"
      ],
      "text/plain": [
       "                                      Metric Surface Mean Eror (abs)\n",
       "0   Mean (Filtered for price < 81.70$, 20% Quantile)          0.8335\n",
       "1   Mean (Filtered for price > 81.70$, 20% Quantile)          5.7189\n",
       "2  Mean (Filtered for price > 214.65$, 50% Quantile)          7.7176\n",
       "3  Mean (Filtered for price > 370.98$, 80% Quantile)          8.9573\n",
       "4                                               Mean          4.7169\n",
       "5                                             Median          2.0224"
      ]
     },
     "execution_count": 24,
     "metadata": {},
     "output_type": "execute_result"
    }
   ],
   "source": [
    "surface_error = Comparaison.comparaison_surface(df_pricing)\n",
    "surface_error"
   ]
  },
  {
   "cell_type": "code",
   "execution_count": 25,
   "id": "81b3d046",
   "metadata": {},
   "outputs": [
    {
     "name": "stdout",
     "output_type": "stream",
     "text": [
      "Relative entropy D(p||u): 0.10827879926621628\n",
      "Alpha : 0.9899925121920261\n",
      "Nombre effectif de paths nu* : 44868.8686698917\n",
      "Fraction du total : 0.897377373397834\n"
     ]
    }
   ],
   "source": [
    "N = len(WMC_weights)\n",
    "u = np.full(N, 1/N)\n",
    "D_pu = np.sum(WMC_weights * np.log((WMC_weights + 1e-16) / u))\n",
    "print(\"Relative entropy D(p||u):\", D_pu)\n",
    "\n",
    "alpha = 1 - D_pu / np.log(N)\n",
    "print(\"Alpha :\", alpha)\n",
    "\n",
    "nu_star = N**alpha\n",
    "print(\"Nombre effectif de paths nu* :\", nu_star)\n",
    "print(\"Fraction du total :\", nu_star / N)"
   ]
  },
  {
   "cell_type": "code",
   "execution_count": 26,
   "id": "f806c05a",
   "metadata": {},
   "outputs": [
    {
     "data": {
      "text/html": [
       "<div>\n",
       "<style scoped>\n",
       "    .dataframe tbody tr th:only-of-type {\n",
       "        vertical-align: middle;\n",
       "    }\n",
       "\n",
       "    .dataframe tbody tr th {\n",
       "        vertical-align: top;\n",
       "    }\n",
       "\n",
       "    .dataframe thead th {\n",
       "        text-align: right;\n",
       "    }\n",
       "</style>\n",
       "<table border=\"1\" class=\"dataframe\">\n",
       "  <thead>\n",
       "    <tr style=\"text-align: right;\">\n",
       "      <th></th>\n",
       "      <th>Statistic</th>\n",
       "      <th>Value</th>\n",
       "    </tr>\n",
       "  </thead>\n",
       "  <tbody>\n",
       "    <tr>\n",
       "      <th>0</th>\n",
       "      <td>Mean</td>\n",
       "      <td>2e-05</td>\n",
       "    </tr>\n",
       "    <tr>\n",
       "      <th>1</th>\n",
       "      <td>Standard Error</td>\n",
       "      <td>4.38437e-08</td>\n",
       "    </tr>\n",
       "    <tr>\n",
       "      <th>2</th>\n",
       "      <td>Median</td>\n",
       "      <td>1.91026e-05</td>\n",
       "    </tr>\n",
       "    <tr>\n",
       "      <th>3</th>\n",
       "      <td>Mode</td>\n",
       "      <td>8.19925e-07</td>\n",
       "    </tr>\n",
       "    <tr>\n",
       "      <th>4</th>\n",
       "      <td>Standard Deviation</td>\n",
       "      <td>9.80374e-06</td>\n",
       "    </tr>\n",
       "    <tr>\n",
       "      <th>5</th>\n",
       "      <td>Sample Variance</td>\n",
       "      <td>9.61133e-11</td>\n",
       "    </tr>\n",
       "    <tr>\n",
       "      <th>6</th>\n",
       "      <td>Kurtosis</td>\n",
       "      <td>11.7994</td>\n",
       "    </tr>\n",
       "    <tr>\n",
       "      <th>7</th>\n",
       "      <td>Skewness</td>\n",
       "      <td>1.87144</td>\n",
       "    </tr>\n",
       "    <tr>\n",
       "      <th>8</th>\n",
       "      <td>Range</td>\n",
       "      <td>0.000161094</td>\n",
       "    </tr>\n",
       "    <tr>\n",
       "      <th>9</th>\n",
       "      <td>Minimum</td>\n",
       "      <td>8.19925e-07</td>\n",
       "    </tr>\n",
       "    <tr>\n",
       "      <th>10</th>\n",
       "      <td>Maximum</td>\n",
       "      <td>0.000161914</td>\n",
       "    </tr>\n",
       "  </tbody>\n",
       "</table>\n",
       "</div>"
      ],
      "text/plain": [
       "             Statistic        Value\n",
       "0                 Mean        2e-05\n",
       "1       Standard Error  4.38437e-08\n",
       "2               Median  1.91026e-05\n",
       "3                 Mode  8.19925e-07\n",
       "4   Standard Deviation  9.80374e-06\n",
       "5      Sample Variance  9.61133e-11\n",
       "6             Kurtosis      11.7994\n",
       "7             Skewness      1.87144\n",
       "8                Range  0.000161094\n",
       "9              Minimum  8.19925e-07\n",
       "10             Maximum  0.000161914"
      ]
     },
     "execution_count": 26,
     "metadata": {},
     "output_type": "execute_result"
    }
   ],
   "source": [
    "df_stats = Comparaison.stats_weights(WMC_weights)\n",
    "df_stats"
   ]
  },
  {
   "cell_type": "code",
   "execution_count": 27,
   "id": "6bbe7c5e",
   "metadata": {},
   "outputs": [
    {
     "data": {
      "image/png": "[encoded data removed]",
      "text/plain": [
       "<Figure size 1400x600 with 1 Axes>"
      ]
     },
     "metadata": {},
     "output_type": "display_data"
    }
   ],
   "source": [
    "N = len(np.array(w.p).flatten())\n",
    "x = np.arange(1, N+1)\n",
    "\n",
    "plt.figure(figsize=(14, 6))\n",
    "plt.plot(x, np.array(w.p).flatten(), color='navy', linewidth=0.7)\n",
    "plt.xlabel('path #')\n",
    "plt.ylabel('probability')\n",
    "plt.title('Distribution of Calibrated Path Weights')\n",
    "\n",
    "tick_spacing = max(1, N // 20)\n",
    "\n",
    "plt.xticks(np.arange(1, N+1, tick_spacing))\n",
    "plt.grid(True, linestyle=':', linewidth=0.5)\n",
    "plt.savefig(r\"C:\\Users\\baris\\Desktop\\Master Thesis\\2. Writing\\Heston\\WMC_Heston_distribution_weights.png\", dpi=300, bbox_inches='tight')"
   ]
  },
  {
   "cell_type": "code",
   "execution_count": 28,
   "id": "fd859ce0",
   "metadata": {},
   "outputs": [],
   "source": [
    "Comparaison.saving_data(maturity_error, 'Heston\\WMC_Heston_maturity_error')\n",
    "Comparaison.saving_data(strike_error, 'Heston\\WMC_Heston_strike_error')\n",
    "Comparaison.saving_data(surface_error, 'Heston\\WMC_Heston_surface_error')\n",
    "Comparaison.saving_data(df_stats, 'Heston\\WMC_Heston_recap_stat')"
   ]
  },
  {
   "cell_type": "markdown",
   "id": "bf855151",
   "metadata": {},
   "source": [
    "# TEST WMC-Heston One Maturity"
   ]
  },
  {
   "cell_type": "code",
   "execution_count": 29,
   "id": "9dbae331",
   "metadata": {},
   "outputs": [],
   "source": [
    "S0 = spx_price\n",
    "r = 0.03 # data from 18 july 2025\n",
    "T_max = np.max(df['Maturity'].to_numpy('float'))\n",
    "market_prices = df[df['Maturity'] == T_max]['Price'].to_numpy('float')\n",
    "strikes = df[df['Maturity'] == T_max]['Strike'].to_numpy('float')\n",
    "average_IV = df[df['Maturity'] == T_max]['IV'].mean()\n",
    "\n",
    "kappa = 1.5\n",
    "rho = -0.5\n",
    "volvol = 0.6\n",
    "theta = 0.03\n",
    "var0 = average_IV ** 2"
   ]
  },
  {
   "cell_type": "code",
   "execution_count": 30,
   "id": "36432665",
   "metadata": {},
   "outputs": [],
   "source": [
    "dt = 1/252 # Amplitude of step\n",
    "N_paths = 50_000 # Number of path\n",
    "N_steps = int(np.ceil(T_max / dt)) # Max number of needed step"
   ]
  },
  {
   "cell_type": "code",
   "execution_count": 31,
   "id": "88d8f11e",
   "metadata": {},
   "outputs": [
    {
     "data": {
      "text/plain": [
       "np.float64(0.742465753)"
      ]
     },
     "execution_count": 31,
     "metadata": {},
     "output_type": "execute_result"
    }
   ],
   "source": [
    "T_max"
   ]
  },
  {
   "cell_type": "code",
   "execution_count": 32,
   "id": "76e6c122",
   "metadata": {},
   "outputs": [],
   "source": [
    "S = simulate_heston(S0, var0, r, kappa, theta, volvol, rho, N_paths, N_steps)\n",
    "S_T = S[:,-1]"
   ]
  },
  {
   "cell_type": "code",
   "execution_count": 33,
   "id": "f996d36a",
   "metadata": {},
   "outputs": [],
   "source": [
    "g=np.array(np.zeros(shape=(N_paths, len(market_prices))))    # initialize payoff matrix (V x N) \n",
    "C=np.zeros(shape=(len(market_prices)))                       # initialize price vector (N)"
   ]
  },
  {
   "cell_type": "code",
   "execution_count": 34,
   "id": "61aad050",
   "metadata": {},
   "outputs": [],
   "source": [
    "i = 0\n",
    "for strike in strikes:\n",
    "    g[:, i] = np.maximum((S_T - strike), 0) * np.exp(-r*T_max)\n",
    "    C[i]=market_prices[i]\n",
    "    i += 1"
   ]
  },
  {
   "cell_type": "code",
   "execution_count": 35,
   "id": "c91fcec7",
   "metadata": {},
   "outputs": [],
   "source": [
    "# Normalisation\n",
    "g_normalize = g / S0\n",
    "C_normalize = C / S0"
   ]
  },
  {
   "cell_type": "code",
   "execution_count": 36,
   "id": "079027fe",
   "metadata": {},
   "outputs": [
    {
     "data": {
      "text/plain": [
       "  message: CONVERGENCE: NORM OF PROJECTED GRADIENT <= PGTOL\n",
       "  success: True\n",
       "   status: 0\n",
       "      fun: 10.457329802989278\n",
       "        x: [-1.578e+02  1.413e+02 -1.367e+02  1.625e+02 -7.483e+01\n",
       "             6.341e+01]\n",
       "      nit: 37\n",
       "      jac: [ 4.060e-06  3.989e-06  3.413e-06  2.034e-06  6.323e-07\n",
       "             4.234e-06]\n",
       "     nfev: 43\n",
       "     njev: 43\n",
       " hess_inv: <6x6 LbfgsInvHessProduct with dtype=float64>"
      ]
     },
     "execution_count": 36,
     "metadata": {},
     "output_type": "execute_result"
    }
   ],
   "source": [
    "w = WMC(g_normalize, C_normalize)\n",
    "w.solve(e=0, options={'maxiter': 1e6, 'ftol': 1e-12}, fPrime=True)\n",
    "w.opt_result"
   ]
  },
  {
   "cell_type": "code",
   "execution_count": 37,
   "id": "896f5ff9",
   "metadata": {},
   "outputs": [],
   "source": [
    "WMC_lambda = w.lambda_ # Store lambda values\n",
    "WMC_weights = np.array(w.p).flatten() # Store optimal weights"
   ]
  },
  {
   "cell_type": "code",
   "execution_count": 38,
   "id": "13349a8a",
   "metadata": {},
   "outputs": [],
   "source": [
    "g_WMC = np.array(np.zeros(shape=(N_paths, len(market_prices))))  \n",
    "C_WMC = np.zeros(shape=(len(market_prices)))"
   ]
  },
  {
   "cell_type": "code",
   "execution_count": 39,
   "id": "75998b0f",
   "metadata": {},
   "outputs": [],
   "source": [
    "i = 0\n",
    "for strike in strikes:\n",
    "    g_WMC[:, i] = np.maximum(((S_T - strike) * WMC_weights), 0).sum() * np.exp(-r*T_max)\n",
    "    C_WMC[i]= g_WMC[:, i].mean()\n",
    "    i += 1"
   ]
  },
  {
   "cell_type": "code",
   "execution_count": 40,
   "id": "c866e37c",
   "metadata": {},
   "outputs": [],
   "source": [
    "df_numeric = pd.DataFrame()\n",
    "\n",
    "df_numeric['WMC_Heston'] = np.round(C_WMC, 4)\n",
    "df_numeric['Market Price'] = np.round(market_prices, 4)\n",
    "df_numeric['Error (abs)'] = np.round(abs((df_numeric['WMC_Heston'] - market_prices)), 4)"
   ]
  },
  {
   "cell_type": "code",
   "execution_count": 41,
   "id": "57f03bfd",
   "metadata": {},
   "outputs": [
    {
     "data": {
      "text/plain": [
       "(np.float64(0.019266666666666668), np.float64(0.0233))"
      ]
     },
     "execution_count": 41,
     "metadata": {},
     "output_type": "execute_result"
    }
   ],
   "source": [
    "df_numeric['Error (abs)'].mean(), df_numeric['Error (abs)'].median()"
   ]
  },
  {
   "cell_type": "code",
   "execution_count": 42,
   "id": "5a1873d4",
   "metadata": {},
   "outputs": [
    {
     "data": {
      "text/html": [
       "<div>\n",
       "<style scoped>\n",
       "    .dataframe tbody tr th:only-of-type {\n",
       "        vertical-align: middle;\n",
       "    }\n",
       "\n",
       "    .dataframe tbody tr th {\n",
       "        vertical-align: top;\n",
       "    }\n",
       "\n",
       "    .dataframe thead th {\n",
       "        text-align: right;\n",
       "    }\n",
       "</style>\n",
       "<table border=\"1\" class=\"dataframe\">\n",
       "  <thead>\n",
       "    <tr style=\"text-align: right;\">\n",
       "      <th></th>\n",
       "      <th>WMC_Heston</th>\n",
       "      <th>Market Price</th>\n",
       "      <th>Error (abs)</th>\n",
       "    </tr>\n",
       "  </thead>\n",
       "  <tbody>\n",
       "    <tr>\n",
       "      <th>0</th>\n",
       "      <td>636.2256</td>\n",
       "      <td>636.2000</td>\n",
       "      <td>0.0256</td>\n",
       "    </tr>\n",
       "    <tr>\n",
       "      <th>1</th>\n",
       "      <td>488.9051</td>\n",
       "      <td>488.8800</td>\n",
       "      <td>0.0251</td>\n",
       "    </tr>\n",
       "    <tr>\n",
       "      <th>2</th>\n",
       "      <td>295.6415</td>\n",
       "      <td>295.6200</td>\n",
       "      <td>0.0215</td>\n",
       "    </tr>\n",
       "    <tr>\n",
       "      <th>3</th>\n",
       "      <td>206.7228</td>\n",
       "      <td>206.7100</td>\n",
       "      <td>0.0128</td>\n",
       "    </tr>\n",
       "    <tr>\n",
       "      <th>4</th>\n",
       "      <td>129.1740</td>\n",
       "      <td>129.1700</td>\n",
       "      <td>0.0040</td>\n",
       "    </tr>\n",
       "    <tr>\n",
       "      <th>5</th>\n",
       "      <td>6490.4813</td>\n",
       "      <td>6490.4547</td>\n",
       "      <td>0.0266</td>\n",
       "    </tr>\n",
       "  </tbody>\n",
       "</table>\n",
       "</div>"
      ],
      "text/plain": [
       "   WMC_Heston  Market Price  Error (abs)\n",
       "0    636.2256      636.2000       0.0256\n",
       "1    488.9051      488.8800       0.0251\n",
       "2    295.6415      295.6200       0.0215\n",
       "3    206.7228      206.7100       0.0128\n",
       "4    129.1740      129.1700       0.0040\n",
       "5   6490.4813     6490.4547       0.0266"
      ]
     },
     "execution_count": 42,
     "metadata": {},
     "output_type": "execute_result"
    }
   ],
   "source": [
    "df_numeric"
   ]
  },
  {
   "cell_type": "code",
   "execution_count": 43,
   "id": "ecc679d4",
   "metadata": {},
   "outputs": [],
   "source": [
    "fig = go.Figure(data=[go.Table(\n",
    "    header=dict(\n",
    "        values=[f\"<b>{col}</b>\" for col in df_numeric.columns],\n",
    "        fill_color=\"#2e6b57\",\n",
    "        font=dict(color='white', size=12),\n",
    "        align='center',\n",
    "        height=40),\n",
    "        \n",
    "        cells=dict(\n",
    "            values=[df_numeric[df_numeric.columns[0]], df_numeric[df_numeric.columns[1]], df_numeric[df_numeric.columns[2]]],\n",
    "            fill_color='#f5f5fa',\n",
    "            align='center',\n",
    "            font_size=11,\n",
    "            height=32)\n",
    "            )])\n",
    "\n",
    "fig.update_layout(width=2500, height=500, margin=dict(l=0, r=0, t=0, b=0))\n",
    "fig.write_image(fr\"C:\\Users\\baris\\Desktop\\Master Thesis\\2. Writing\\Heston\\WMC_Heston_One_Maturity.png\", scale=3)"
   ]
  },
  {
   "cell_type": "markdown",
   "id": "4965421b",
   "metadata": {},
   "source": [
    "# Implied Volatility"
   ]
  },
  {
   "cell_type": "markdown",
   "id": "355fbd72",
   "metadata": {},
   "source": [
    "## One Maturity"
   ]
  },
  {
   "cell_type": "code",
   "execution_count": 44,
   "id": "9cfc28b2",
   "metadata": {},
   "outputs": [],
   "source": [
    "def bs_price_call(S, K, T, r, sigma):\n",
    "    d1 = (np.log(S/K) + (r + 0.5*sigma**2)*T) / (sigma * np.sqrt(T))\n",
    "    d2 = d1 - sigma * np.sqrt(T)\n",
    "    return S * norm.cdf(d1) - K * np.exp(-r*T) * norm.cdf(d2)\n",
    "\n",
    "def bs_vega(S, K, T, r, sigma):\n",
    "    d1 = (np.log(S/K) + (r + 0.5*sigma**2)*T) / (sigma * np.sqrt(T))\n",
    "    return S * norm.pdf(d1) * np.sqrt(T)\n",
    "\n",
    "def implied_vol_newton(price, S, K, T, r, tol=1e-8, max_iterations=100):\n",
    "    sigma = 0.2 # Initial guess\n",
    "    for i in range(max_iterations):\n",
    "        price_bs = bs_price_call(S, K, T, r, sigma)\n",
    "        vega = bs_vega(S, K, T, r, sigma)\n",
    "        price_diff = price_bs - price\n",
    "        if abs(price_diff) < tol:\n",
    "            return sigma\n",
    "        sigma -= price_diff / vega\n",
    "        sigma = max(sigma, 1e-8) # Security to avoid 0\n",
    "    return sigma #If no convergence, return the last value"
   ]
  },
  {
   "cell_type": "code",
   "execution_count": 45,
   "id": "16daf504",
   "metadata": {},
   "outputs": [],
   "source": [
    "IV_WMC_Heston = []\n",
    "IV_Market = []\n",
    "r = 0.0408\n",
    "\n",
    "for price_WMC, price, strike in zip(df_numeric['WMC_Heston'], market_prices, strikes):\n",
    "    IV_WMC_Heston.append(implied_vol_newton(price_WMC, spx_price, strike, T_max, r))\n",
    "    IV_Market.append(implied_vol_newton(price, spx_price, strike, T_max, r))\n",
    "\n",
    "df_numeric['IV_WMC_Heston'] = IV_WMC_Heston\n",
    "df_numeric['IV_Market'] = IV_Market\n",
    "df_numeric['Strike'] = strikes"
   ]
  },
  {
   "cell_type": "code",
   "execution_count": 46,
   "id": "a5ca715f",
   "metadata": {},
   "outputs": [
    {
     "data": {
      "image/png": "[encoded data removed]",
      "text/plain": [
       "<Figure size 700x500 with 1 Axes>"
      ]
     },
     "metadata": {},
     "output_type": "display_data"
    }
   ],
   "source": [
    "# Filtrer les lignes où IV ou IV_Heston est égal à zéro\n",
    "df_plot = df_numeric[(df_numeric['IV_Market'] > 0.001) & (df_numeric['IV_WMC_Heston'] > 0.001)]\n",
    "\n",
    "plt.figure(figsize=(7, 5))\n",
    "\n",
    "plt.plot(df_plot['Strike'], df_plot['IV_Market'], marker='o', label='Market IV', color='blue')\n",
    "plt.plot(df_plot['Strike'], df_plot['IV_WMC_Heston'], marker='o', label='WMC-Heston IV', color='red')\n",
    "\n",
    "plt.xlabel(\"Strike\")\n",
    "plt.ylabel(\"Implied Volatility\")\n",
    "plt.title(\"Implied Volatility Smile: Market vs WMC-Heston\")\n",
    "plt.legend()\n",
    "plt.grid(True)\n",
    "plt.tight_layout()\n",
    "plt.savefig(r\"C:\\Users\\baris\\Desktop\\Master Thesis\\2. Writing\\Heston\\WMC_Heston_IV_One_Maturity.png\", dpi=300, bbox_inches='tight')"
   ]
  },
  {
   "cell_type": "markdown",
   "id": "19cc04de",
   "metadata": {},
   "source": [
    "## Surface Volatility "
   ]
  },
  {
   "cell_type": "code",
   "execution_count": 47,
   "id": "6a62762a",
   "metadata": {},
   "outputs": [],
   "source": [
    "IV_WMC_Heston = []\n",
    "IV = []\n",
    "r = 0.0408\n",
    "\n",
    "for price, price_WMC, strike, maturity in zip(df_pricing['Price'], df_pricing['WMC_Heston'], df_pricing['Strike'], df_pricing['Maturity']):\n",
    "    IV_WMC_Heston.append(implied_vol_newton(price_WMC, spx_price, strike, maturity, r))\n",
    "    IV.append(implied_vol_newton(price, spx_price, strike, maturity, r))\n",
    "\n",
    "\n",
    "df_pricing['IV_WMC_Heston'] = IV_WMC_Heston\n",
    "df_pricing['IV'] = IV"
   ]
  },
  {
   "cell_type": "code",
   "execution_count": 48,
   "id": "d09c06db",
   "metadata": {},
   "outputs": [
    {
     "data": {
      "application/vnd.plotly.v1+json": {
       "config": {
        "plotlyServerURL": "https://plot.ly"
       },
       "data": [
        {
         "color": "blue",
         "name": "Market IV",
         "opacity": 0.4,
         "type": "mesh3d",
         "x": {
          "bdata": "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",
          "dtype": "f8"
         },
         "y": {
          "bdata": "cBcGGB8YOBhRGGoYgxicGLUYzhgAGTIZZBmWGfoZLBpeGpAa9BpwFwYYHxg4GFEYahiDGJwYtRjOGAAZMhlkGZYZ+hksGl4akBr0GnAXBhgfGDgYURhqGIMYnBi1GM4YABkyGWQZlhn6GSwaXhqQGvQacBcGGB8YOBhRGGoYgxicGLUYzhgAGTIZZBmWGfoZLBpeGpAa9BpwFwYYHxg4GFEYahiDGJwYtRjOGAAZMhlkGZYZ+hksGl4akBr0GnAXBhgfGDgYURhqGIMYnBi1GM4YABkyGWQZlhn6GSwaXhqQGvQacBcGGB8YOBhRGGoYgxicGLUYzhgAGTIZZBmWGfoZLBpeGpAa9BpwFwYYHxg4GFEYahiDGJwYtRjOGAAZMhlkGZYZ+hksGl4akBr0GnAXBhgfGDgYURhqGIMYnBi1GM4YABkyGWQZlhn6GSwaXhqQGvQacBcGGB8YOBhRGGoYgxicGLUYzhgAGTIZZBmWGfoZLBpeGpAa9BpwFwYYHxg4GFEYahiDGJwYtRjOGAAZMhlkGZYZ+hksGl4akBr0GnAXBhgfGDgYURhqGIMYnBi1GM4YABkyGWQZlhn6GSwaXhqQGvQacBcGGB8YOBhRGGoYgxicGLUYzhgAGTIZZBmWGfoZLBpeGpAa9BpwFwYYHxg4GFEYahiDGJwYtRjOGAAZMhlkGZYZ+hksGl4akBr0GnAXBhgfGDgYURhqGIMYnBi1GM4YABkyGWQZlhn6GSwaXhqQGvQacBcGGB8YOBhRGGoYgxicGLUYzhgAGTIZZBmWGfoZLBpeGpAa9BpwFwYYHxg4GFEYahiDGJwYtRjOGAAZMhlkGZYZ+hksGl4akBr0GnAXBhgfGDgYURhqGIMYnBi1GM4YABkyGWQZlhn6GSwaXhqQGvQacBcGGB8YOBhRGGoYgxicGLUYzhgAGTIZZBmWGfoZLBpeGpAa9Bo=",
          "dtype": "i2"
         },
         "z": {
          "bdata": "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",
          "dtype": "f8"
         }
        },
        {
         "marker": {
          "color": "red",
          "size": 7
         },
         "mode": "markers",
         "name": "WMC Heston IV",
         "type": "scatter3d",
         "x": {
          "bdata": "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",
          "dtype": "f8"
         },
         "y": {
          "bdata": "cBcGGB8YOBhRGGoYgxicGLUYzhgAGTIZZBmWGfoZLBpeGpAa9BpwFwYYHxg4GFEYahiDGJwYtRjOGAAZMhlkGZYZ+hksGl4akBr0GnAXBhgfGDgYURhqGIMYnBi1GM4YABkyGWQZlhn6GSwaXhqQGvQacBcGGB8YOBhRGGoYgxicGLUYzhgAGTIZZBmWGfoZLBpeGpAa9BpwFwYYHxg4GFEYahiDGJwYtRjOGAAZMhlkGZYZ+hksGl4akBr0GnAXBhgfGDgYURhqGIMYnBi1GM4YABkyGWQZlhn6GSwaXhqQGvQacBcGGB8YOBhRGGoYgxicGLUYzhgAGTIZZBmWGfoZLBpeGpAa9BpwFwYYHxg4GFEYahiDGJwYtRjOGAAZMhlkGZYZ+hksGl4akBr0GnAXBhgfGDgYURhqGIMYnBi1GM4YABkyGWQZlhn6GSwaXhqQGvQacBcGGB8YOBhRGGoYgxicGLUYzhgAGTIZZBmWGfoZLBpeGpAa9BpwFwYYHxg4GFEYahiDGJwYtRjOGAAZMhlkGZYZ+hksGl4akBr0GnAXBhgfGDgYURhqGIMYnBi1GM4YABkyGWQZlhn6GSwaXhqQGvQacBcGGB8YOBhRGGoYgxicGLUYzhgAGTIZZBmWGfoZLBpeGpAa9BpwFwYYHxg4GFEYahiDGJwYtRjOGAAZMhlkGZYZ+hksGl4akBr0GnAXBhgfGDgYURhqGIMYnBi1GM4YABkyGWQZlhn6GSwaXhqQGvQacBcGGB8YOBhRGGoYgxicGLUYzhgAGTIZZBmWGfoZLBpeGpAa9BpwFwYYHxg4GFEYahiDGJwYtRjOGAAZMhlkGZYZ+hksGl4akBr0GnAXBhgfGDgYURhqGIMYnBi1GM4YABkyGWQZlhn6GSwaXhqQGvQacBcGGB8YOBhRGGoYgxicGLUYzhgAGTIZZBmWGfoZLBpeGpAa9Bo=",
          "dtype": "i2"
         },
         "z": {
          "bdata": "b21d4Dq8xD9WVlAabZPDP7mIEzN8V8M/iPElOLQXwz+bD1Ij09TCP7fH+rbVjcI/kd1fiflCwj+cmTHjCPTBP4lnz0sxosE/RPhagvFPwT8c6M2X8rDAP9GZ0G9gH8A/YnopkmNEvz+vLSOpFoa+P5qaMYT1pb0/Zk1yf9V7vT9dMn996mu9P9tEaIVBeL0/IHOqHMrQvT/IrthEWLnEP9k9oaMQkcM/KY6IPDFVwz96iwL3eRXDP6GDG+Ko0sI/s+IO87qLwj+IPPfV7UDCPzgh7O4L8sE/mwuUvkKgwT/fMsTaEE7BPxaZ68Yrr8A/omfygbAdwD99dTC5KkG/P+14XaP8gr4/1IfrVQSjvT9K2vHT73i9P00ENbkMab0/dr/cFWh1vT+jxeVL8c29P91TNsEI+MM/sC9T/zxjwz8+0y2sjDfDPwV94co3BMM/3UZQydHIwj9zmwvU4YXCP1A+fODJPMI/XPJnW+nuwT9/3yFow5zBPzC4VoSGSME/5NCoLx+ewD/jZc2Gnvy/P1FTTntL6L4/t9kibeoWvj/bZkyyPB69P8Fb8idr4rw/uC/d+VLIvD/p0I9TicW8Pxd4cn4JB70/NCK/g/JmxT/s42k7IvbDPycW45vlscM/O2woMttrwz8ZjtzorCPDP0SF8aRG2cI/lS5z54KMwj995gzXzT3CP8ZT69PX7cE/cpnLa4mdwT8mBI1NeP7AP4mBqkx6acA/PcAMKl/Ivz/+AtZNHuq+P5IuLUt8zb0/OaTwP618vT8IVCkPiku9PxMpmXFEQL0/wMPo5hZbvT/OiEh21qHFP78StMKtF8Q/WDxLGtfQwz+lEz7jc4jDP3RfoxFVPsM/V6QWa6fywj/i3htWrqXCP4+zjyO6V8I/2/8bXyEJwj8yt3tcjLrBPwLIq6hnIME/DMROTrOOwD8hcUA9WQzAP5ULqCRlOr8/9gP/Sf4Fvj8kroJrj6y9PzNFLgZ/db0/kWZzHBddvT/32k77wXi9P2ypjt/1UMY/Gy10LPylxD8TODh49lrEP+0GmDvmDsQ/QaVdBOzBwz+YbVusJ3TDP2ICpv27JcM/2zW89tzWwj+Z0CYsfofCP03lBg1vOMI/YyrJqlicwT9Ct4FzagbBPzPgOyw7fsA/tMsGlXUHwD/d+Il7R6y+P4doYWUQNr4/hkTTvobcvT/WRJ+kipu9P1ypdHJEYb0/iOw0N+JNxj9Ljzh9UqPEP1Jd8gVdWMQ/UMMXsVwMxD/WrRsQcr/DPxst0/+8ccM/CVh3TGAjwz+IaqT0j9TCPxfB9ZE/hcI/V7UihT42wj+yMzU4Q5rBPxY0D2puBME/UzFZNVZ8wD+FppkGpQXAPxFVJcTmqL4/DZptm8cyvj9oXe2iUdm9P0JgRoxlmL0/uyCwOTVevT8K/99tf/HFPyK+KUFYicQ/HqgN4WxJxD+slozx7AfEP87fhREkxcM/w5zIfVSBwz+nxfz4ezzDPzMfw+c498I/efFBe06xwj9SOyi+EGvCP9tWEnAK38E/sayEeIhXwT9zkiefjNrAP6cMpqryasA/u8rb1bd7vz8gvK57JQG/P96XDnicpr4/aBTy5P5pvj+guxCCuUS+Px4J+Lj5UsU/aeGLjIdKxD8CUz0WgRrEP/fPYAxt6MM/PsD58RC0wz+74LP8cH3DP2oktYW7RMM/xefMjvMJwz/P7NJzac3CPxWlTraDj8I/bY4vkWERwj8O1GQaYpXBP3ikzAleHsE/mUgIwH6vwD+alBLokPS/PxEn9/oJbL8/pjI4p5r+vj+mh9XH5a++P33m8g7DY74/6Ec85rE6xT8pxTCBIHHEP3Cj3+5SScQ/iy+QidUdxD+z1L2nSu7DP0cM1ZDqusM/5Ln50x+Ewz/MF/srbkrDP2KizFZrDsM/a4BkIc/Qwj967VDZjVLCP9GpyP6E1ME/UUoHaRRbwT+LeMmZY+vAP2WtKsc7NMA/mb/QpBfbvz/NesUCm2e/Py753Ir+DL8/uB+owz2nvj/YUkAYQuTFP7fyi1n+qsQ/jm16WZt0xD85Sv+rPT3EPxFzyYgABcQ/0hDNC7HLwz/zQW35mZHDP0Kj1V2KVsM/Zx0yRKgawz+qoyLLud7CP5Zqe7rlZcI//jfTC9ntwT+KPPjWY3rBP3f5GgK0DcE/VoULVHNTwD9350zifgjAPx7Fi6+xkr8/W6/uO1sqvz/QawEoDKq+P+xWg9n84MU/KU3FkRaoxD9616PvwXHEPw0By1tyOsQ/dfnBEEMCxD9I0vQyAcnDPyTrLIX3jsM/7UVjG/VTwz/73lIBIBjDPzYJ6Ec+3MI/LwtYEoNjwj8FSkZDjuvBPxrT16QveME/RlhJ75QLwT9XzHoheVHAP1d7xDeUBsA/VpeIrPeOvz8vArsLuSa/P7rXVAWOpr4/0G57Vcxexj+jMGv8PALFP/lsMzv3xsQ/TRrXDz+LxD+6cRfKXU/EP+vXhTlaE8Q/jQ/KJZvWwz+CZ2w5iZnDP3BgpIRdXMM/y1iGGq8ewz+7Aj9dsqPCP1s9rfhkK8I/VIkHfKS3wT8Gykr8WkrBP9QBJK9Ki8A/B3KJy+g8wD8zMFc5NfG/P6XfiMgbfb8/7kejHDLcvj/BUtzjRP7GP1KYYiNyfsU/Tft/njQ9xT9aytnH1fvEP5n75y9JusQ/1ATqDAN5xD8YcvRy0jfEP0CLCj2H9sM/77h107i1wz8sjNUVPHXDP97Kp2pf9sI/3uABSKF6wj/51bhroQPCP1ep/LgPlME/cjKjVLzRwD+RJ7Kba3/AP/1y6JOzNcA/MhOSfxvqvz+u7Qy+hSW/PxPjsj+uk8Y/YZ2dAF5ExT9Jpnwg3AvFP6jW52Ed08Q/WIt7K+mZxD9H3jHIqGDEPxYMbo20J8Q/oyzmEiXvwz++dueyB7fDP31LYSFwf8M/lkRtEyURwz/y3NuTNqXCP0aPF5IGPcI/eN+6CILZwT/l+W2KKybBP11qSzW72MA/G3NSSsKSwD/y+0cWKFXAP0OP/HU66L8/HPhcCrqZxj+5fbJkHGXFP51Hg8XsMMU/R3iuFCH8xD8irJ6MycbEP0NhupYxkcQ/ZORzKm5bxD8jwXYUniXEP+pom/PZ78M/lFHu+kC6wz/wK1eRzVDDPzFgwtlK6cI/DvlHj5WEwj+c63Uu7SLCP9ohyW2FbcE/mO21ydwcwT9t1jjOVNXAP7HLY3jMlsA/aBs12VM0wD+PgZRTEB7GP1JX89fI7sQ/yjjaNma8xD+6luNULYrEP2pPxIKyV8Q/x2v7py8lxD/rl+Duy/LDP4/S0y6VwMM/MMLqoZWOwz8lxl4pzFzDP+6gQWXB+8I/TG8SDtyewj/Ujf3iHEfCP+SStKX39ME/ZNydhnphwT+KvnhVph7BP6GdOBFT4MA/xDGzL2WnwD+kEerZZUrAP5cvLrB0GsY/EwWkYIbrxD/hho6yMbnEP/2RSoMGh8Q/37HaLJlUxD/cRWqUIyLEP0/a5+LM78M/hJ7y76K9wz+4vQf2r4vDPxNUoNfyWcM/DDoT+P/4wj/an5ZhMZzCP4iICr6HRMI/dUySxXbywT8JPr9wHl/BP9IubvJaHME/Rjp6ShfewD85XVzeN6XAP7ZOWZ1RSMA/OsA2lPtlxT8dWDOkl0bEP4zCujN2F8Q/05Yc/nTowz//foAvhLnDP3LnNI3JisM/HZcPz01cwz9jCw1fJS7DP9MnOFvoAMM/LjtlAZfUwj/QQHCoF3/CP3ZDXshsMMI/lANzITbqwT+pQqEugq/BP4HgPd6oTsE/cXTmvFYgwT/s4o0A5u/AP3zAfRtlvsA/+bWYBg9lwD8=",
          "dtype": "f8"
         }
        }
       ],
       "layout": {
        "height": 1000,
        "legend": {
         "x": 0.05,
         "y": 0.95
        },
        "scene": {
         "xaxis": {
          "title": {
           "text": "MATURITY"
          }
         },
         "yaxis": {
          "title": {
           "text": "STRIKE"
          }
         },
         "zaxis": {
          "title": {
           "text": "IMPLIED VOLATILITY"
          }
         }
        },
        "template": {
         "data": {
          "bar": [
           {
            "error_x": {
             "color": "#2a3f5f"
            },
            "error_y": {
             "color": "#2a3f5f"
            },
            "marker": {
             "line": {
              "color": "#E5ECF6",
              "width": 0.5
             },
             "pattern": {
              "fillmode": "overlay",
              "size": 10,
              "solidity": 0.2
             }
            },
            "type": "bar"
           }
          ],
          "barpolar": [
           {
            "marker": {
             "line": {
              "color": "#E5ECF6",
              "width": 0.5
             },
             "pattern": {
              "fillmode": "overlay",
              "size": 10,
              "solidity": 0.2
             }
            },
            "type": "barpolar"
           }
          ],
          "carpet": [
           {
            "aaxis": {
             "endlinecolor": "#2a3f5f",
             "gridcolor": "white",
             "linecolor": "white",
             "minorgridcolor": "white",
             "startlinecolor": "#2a3f5f"
            },
            "baxis": {
             "endlinecolor": "#2a3f5f",
             "gridcolor": "white",
             "linecolor": "white",
             "minorgridcolor": "white",
             "startlinecolor": "#2a3f5f"
            },
            "type": "carpet"
           }
          ],
          "choropleth": [
           {
            "colorbar": {
             "outlinewidth": 0,
             "ticks": ""
            },
            "type": "choropleth"
           }
          ],
          "contour": [
           {
            "colorbar": {
             "outlinewidth": 0,
             "ticks": ""
            },
            "colorscale": [
             [
              0,
              "#0d0887"
             ],
             [
              0.1111111111111111,
              "#46039f"
             ],
             [
              0.2222222222222222,
              "#7201a8"
             ],
             [
              0.3333333333333333,
              "#9c179e"
             ],
             [
              0.4444444444444444,
              "#bd3786"
             ],
             [
              0.5555555555555556,
              "#d8576b"
             ],
             [
              0.6666666666666666,
              "#ed7953"
             ],
             [
              0.7777777777777778,
              "#fb9f3a"
             ],
             [
              0.8888888888888888,
              "#fdca26"
             ],
             [
              1,
              "#f0f921"
             ]
            ],
            "type": "contour"
           }
          ],
          "contourcarpet": [
           {
            "colorbar": {
             "outlinewidth": 0,
             "ticks": ""
            },
            "type": "contourcarpet"
           }
          ],
          "heatmap": [
           {
            "colorbar": {
             "outlinewidth": 0,
             "ticks": ""
            },
            "colorscale": [
             [
              0,
              "#0d0887"
             ],
             [
              0.1111111111111111,
              "#46039f"
             ],
             [
              0.2222222222222222,
              "#7201a8"
             ],
             [
              0.3333333333333333,
              "#9c179e"
             ],
             [
              0.4444444444444444,
              "#bd3786"
             ],
             [
              0.5555555555555556,
              "#d8576b"
             ],
             [
              0.6666666666666666,
              "#ed7953"
             ],
             [
              0.7777777777777778,
              "#fb9f3a"
             ],
             [
              0.8888888888888888,
              "#fdca26"
             ],
             [
              1,
              "#f0f921"
             ]
            ],
            "type": "heatmap"
           }
          ],
          "histogram": [
           {
            "marker": {
             "pattern": {
              "fillmode": "overlay",
              "size": 10,
              "solidity": 0.2
             }
            },
            "type": "histogram"
           }
          ],
          "histogram2d": [
           {
            "colorbar": {
             "outlinewidth": 0,
             "ticks": ""
            },
            "colorscale": [
             [
              0,
              "#0d0887"
             ],
             [
              0.1111111111111111,
              "#46039f"
             ],
             [
              0.2222222222222222,
              "#7201a8"
             ],
             [
              0.3333333333333333,
              "#9c179e"
             ],
             [
              0.4444444444444444,
              "#bd3786"
             ],
             [
              0.5555555555555556,
              "#d8576b"
             ],
             [
              0.6666666666666666,
              "#ed7953"
             ],
             [
              0.7777777777777778,
              "#fb9f3a"
             ],
             [
              0.8888888888888888,
              "#fdca26"
             ],
             [
              1,
              "#f0f921"
             ]
            ],
            "type": "histogram2d"
           }
          ],
          "histogram2dcontour": [
           {
            "colorbar": {
             "outlinewidth": 0,
             "ticks": ""
            },
            "colorscale": [
             [
              0,
              "#0d0887"
             ],
             [
              0.1111111111111111,
              "#46039f"
             ],
             [
              0.2222222222222222,
              "#7201a8"
             ],
             [
              0.3333333333333333,
              "#9c179e"
             ],
             [
              0.4444444444444444,
              "#bd3786"
             ],
             [
              0.5555555555555556,
              "#d8576b"
             ],
             [
              0.6666666666666666,
              "#ed7953"
             ],
             [
              0.7777777777777778,
              "#fb9f3a"
             ],
             [
              0.8888888888888888,
              "#fdca26"
             ],
             [
              1,
              "#f0f921"
             ]
            ],
            "type": "histogram2dcontour"
           }
          ],
          "mesh3d": [
           {
            "colorbar": {
             "outlinewidth": 0,
             "ticks": ""
            },
            "type": "mesh3d"
           }
          ],
          "parcoords": [
           {
            "line": {
             "colorbar": {
              "outlinewidth": 0,
              "ticks": ""
             }
            },
            "type": "parcoords"
           }
          ],
          "pie": [
           {
            "automargin": true,
            "type": "pie"
           }
          ],
          "scatter": [
           {
            "fillpattern": {
             "fillmode": "overlay",
             "size": 10,
             "solidity": 0.2
            },
            "type": "scatter"
           }
          ],
          "scatter3d": [
           {
            "line": {
             "colorbar": {
              "outlinewidth": 0,
              "ticks": ""
             }
            },
            "marker": {
             "colorbar": {
              "outlinewidth": 0,
              "ticks": ""
             }
            },
            "type": "scatter3d"
           }
          ],
          "scattercarpet": [
           {
            "marker": {
             "colorbar": {
              "outlinewidth": 0,
              "ticks": ""
             }
            },
            "type": "scattercarpet"
           }
          ],
          "scattergeo": [
           {
            "marker": {
             "colorbar": {
              "outlinewidth": 0,
              "ticks": ""
             }
            },
            "type": "scattergeo"
           }
          ],
          "scattergl": [
           {
            "marker": {
             "colorbar": {
              "outlinewidth": 0,
              "ticks": ""
             }
            },
            "type": "scattergl"
           }
          ],
          "scattermap": [
           {
            "marker": {
             "colorbar": {
              "outlinewidth": 0,
              "ticks": ""
             }
            },
            "type": "scattermap"
           }
          ],
          "scattermapbox": [
           {
            "marker": {
             "colorbar": {
              "outlinewidth": 0,
              "ticks": ""
             }
            },
            "type": "scattermapbox"
           }
          ],
          "scatterpolar": [
           {
            "marker": {
             "colorbar": {
              "outlinewidth": 0,
              "ticks": ""
             }
            },
            "type": "scatterpolar"
           }
          ],
          "scatterpolargl": [
           {
            "marker": {
             "colorbar": {
              "outlinewidth": 0,
              "ticks": ""
             }
            },
            "type": "scatterpolargl"
           }
          ],
          "scatterternary": [
           {
            "marker": {
             "colorbar": {
              "outlinewidth": 0,
              "ticks": ""
             }
            },
            "type": "scatterternary"
           }
          ],
          "surface": [
           {
            "colorbar": {
             "outlinewidth": 0,
             "ticks": ""
            },
            "colorscale": [
             [
              0,
              "#0d0887"
             ],
             [
              0.1111111111111111,
              "#46039f"
             ],
             [
              0.2222222222222222,
              "#7201a8"
             ],
             [
              0.3333333333333333,
              "#9c179e"
             ],
             [
              0.4444444444444444,
              "#bd3786"
             ],
             [
              0.5555555555555556,
              "#d8576b"
             ],
             [
              0.6666666666666666,
              "#ed7953"
             ],
             [
              0.7777777777777778,
              "#fb9f3a"
             ],
             [
              0.8888888888888888,
              "#fdca26"
             ],
             [
              1,
              "#f0f921"
             ]
            ],
            "type": "surface"
           }
          ],
          "table": [
           {
            "cells": {
             "fill": {
              "color": "#EBF0F8"
             },
             "line": {
              "color": "white"
             }
            },
            "header": {
             "fill": {
              "color": "#C8D4E3"
             },
             "line": {
              "color": "white"
             }
            },
            "type": "table"
           }
          ]
         },
         "layout": {
          "annotationdefaults": {
           "arrowcolor": "#2a3f5f",
           "arrowhead": 0,
           "arrowwidth": 1
          },
          "autotypenumbers": "strict",
          "coloraxis": {
           "colorbar": {
            "outlinewidth": 0,
            "ticks": ""
           }
          },
          "colorscale": {
           "diverging": [
            [
             0,
             "#8e0152"
            ],
            [
             0.1,
             "#c51b7d"
            ],
            [
             0.2,
             "#de77ae"
            ],
            [
             0.3,
             "#f1b6da"
            ],
            [
             0.4,
             "#fde0ef"
            ],
            [
             0.5,
             "#f7f7f7"
            ],
            [
             0.6,
             "#e6f5d0"
            ],
            [
             0.7,
             "#b8e186"
            ],
            [
             0.8,
             "#7fbc41"
            ],
            [
             0.9,
             "#4d9221"
            ],
            [
             1,
             "#276419"
            ]
           ],
           "sequential": [
            [
             0,
             "#0d0887"
            ],
            [
             0.1111111111111111,
             "#46039f"
            ],
            [
             0.2222222222222222,
             "#7201a8"
            ],
            [
             0.3333333333333333,
             "#9c179e"
            ],
            [
             0.4444444444444444,
             "#bd3786"
            ],
            [
             0.5555555555555556,
             "#d8576b"
            ],
            [
             0.6666666666666666,
             "#ed7953"
            ],
            [
             0.7777777777777778,
             "#fb9f3a"
            ],
            [
             0.8888888888888888,
             "#fdca26"
            ],
            [
             1,
             "#f0f921"
            ]
           ],
           "sequentialminus": [
            [
             0,
             "#0d0887"
            ],
            [
             0.1111111111111111,
             "#46039f"
            ],
            [
             0.2222222222222222,
             "#7201a8"
            ],
            [
             0.3333333333333333,
             "#9c179e"
            ],
            [
             0.4444444444444444,
             "#bd3786"
            ],
            [
             0.5555555555555556,
             "#d8576b"
            ],
            [
             0.6666666666666666,
             "#ed7953"
            ],
            [
             0.7777777777777778,
             "#fb9f3a"
            ],
            [
             0.8888888888888888,
             "#fdca26"
            ],
            [
             1,
             "#f0f921"
            ]
           ]
          },
          "colorway": [
           "#636efa",
           "#EF553B",
           "#00cc96",
           "#ab63fa",
           "#FFA15A",
           "#19d3f3",
           "#FF6692",
           "#B6E880",
           "#FF97FF",
           "#FECB52"
          ],
          "font": {
           "color": "#2a3f5f"
          },
          "geo": {
           "bgcolor": "white",
           "lakecolor": "white",
           "landcolor": "#E5ECF6",
           "showlakes": true,
           "showland": true,
           "subunitcolor": "white"
          },
          "hoverlabel": {
           "align": "left"
          },
          "hovermode": "closest",
          "mapbox": {
           "style": "light"
          },
          "paper_bgcolor": "white",
          "plot_bgcolor": "#E5ECF6",
          "polar": {
           "angularaxis": {
            "gridcolor": "white",
            "linecolor": "white",
            "ticks": ""
           },
           "bgcolor": "#E5ECF6",
           "radialaxis": {
            "gridcolor": "white",
            "linecolor": "white",
            "ticks": ""
           }
          },
          "scene": {
           "xaxis": {
            "backgroundcolor": "#E5ECF6",
            "gridcolor": "white",
            "gridwidth": 2,
            "linecolor": "white",
            "showbackground": true,
            "ticks": "",
            "zerolinecolor": "white"
           },
           "yaxis": {
            "backgroundcolor": "#E5ECF6",
            "gridcolor": "white",
            "gridwidth": 2,
            "linecolor": "white",
            "showbackground": true,
            "ticks": "",
            "zerolinecolor": "white"
           },
           "zaxis": {
            "backgroundcolor": "#E5ECF6",
            "gridcolor": "white",
            "gridwidth": 2,
            "linecolor": "white",
            "showbackground": true,
            "ticks": "",
            "zerolinecolor": "white"
           }
          },
          "shapedefaults": {
           "line": {
            "color": "#2a3f5f"
           }
          },
          "ternary": {
           "aaxis": {
            "gridcolor": "white",
            "linecolor": "white",
            "ticks": ""
           },
           "baxis": {
            "gridcolor": "white",
            "linecolor": "white",
            "ticks": ""
           },
           "bgcolor": "#E5ECF6",
           "caxis": {
            "gridcolor": "white",
            "linecolor": "white",
            "ticks": ""
           }
          },
          "title": {
           "x": 0.05
          },
          "xaxis": {
           "automargin": true,
           "gridcolor": "white",
           "linecolor": "white",
           "ticks": "",
           "title": {
            "standoff": 15
           },
           "zerolinecolor": "white",
           "zerolinewidth": 2
          },
          "yaxis": {
           "automargin": true,
           "gridcolor": "white",
           "linecolor": "white",
           "ticks": "",
           "title": {
            "standoff": 15
           },
           "zerolinecolor": "white",
           "zerolinewidth": 2
          }
         }
        },
        "title": {
         "text": "Market Implied Volatility Surface (Mesh) vs Calibrated Heston IV (Markers)"
        },
        "width": 1200
       }
      }
     },
     "metadata": {},
     "output_type": "display_data"
    }
   ],
   "source": [
    "import plotly.graph_objs as go\n",
    "\n",
    "# Filtrer les lignes où IV ou IV_Heston est égal à zéro\n",
    "df_plot = df_pricing[(df_pricing['IV'] > 0.001) & (df_pricing['IV_WMC_Heston'] > 0.001)]\n",
    "\n",
    "fig = go.Figure()\n",
    "\n",
    "# Market IV as Mesh\n",
    "fig.add_trace(go.Mesh3d(x=df_plot['Maturity'], y=df_plot['Strike'], z=df_plot['IV'],\n",
    "                        color='blue',\n",
    "                        opacity=0.4,\n",
    "                        name='Market IV'))\n",
    "\n",
    "# Heston IV as Markers\n",
    "fig.add_trace(go.Scatter3d(x=df_plot['Maturity'], y=df_plot['Strike'], z=df_plot['IV_WMC_Heston'],\n",
    "                           mode='markers',\n",
    "                           marker=dict(size=7, color='red'),\n",
    "                           name='WMC Heston IV'\n",
    "                           ))\n",
    "\n",
    "fig.update_layout(title_text=\"Market Implied Volatility Surface (Mesh) vs Calibrated Heston IV (Markers)\",\n",
    "                  scene=dict(xaxis_title='MATURITY', yaxis_title='STRIKE', zaxis_title='IMPLIED VOLATILITY'),\n",
    "                  width=1200,\n",
    "                  height=1000,\n",
    "                  legend=dict(x=0.05, y=0.95))\n",
    "\n",
    "fig.show()"
   ]
  },
  {
   "cell_type": "code",
   "execution_count": null,
   "id": "b3f3c7d9",
   "metadata": {},
   "outputs": [],
   "source": []
  },
  {
   "cell_type": "code",
   "execution_count": null,
   "id": "404ab487",
   "metadata": {},
   "outputs": [],
   "source": []
  }
 ],
 "metadata": {
  "kernelspec": {
   "display_name": "Python 3",
   "language": "python",
   "name": "python3"
  },
  "language_info": {
   "codemirror_mode": {
    "name": "ipython",
    "version": 3
   },
   "file_extension": ".py",
   "mimetype": "text/x-python",
   "name": "python",
   "nbconvert_exporter": "python",
   "pygments_lexer": "ipython3",
   "version": "3.11.9"
  }
 },
 "nbformat": 4,
 "nbformat_minor": 5
}
