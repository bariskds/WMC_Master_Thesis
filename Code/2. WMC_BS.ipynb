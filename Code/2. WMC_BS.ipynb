{
 "cells": [
  {
   "cell_type": "markdown",
   "id": "662f1b90",
   "metadata": {},
   "source": [
    "# Importing necessary package"
   ]
  },
  {
   "cell_type": "code",
   "execution_count": 1,
   "id": "0e3f4a56",
   "metadata": {},
   "outputs": [],
   "source": [
    "import pandas as pd \n",
    "import numpy as np \n",
    "\n",
    "import matplotlib.pyplot as plt\n",
    "\n",
    "import warnings\n",
    "warnings.filterwarnings('ignore', category=RuntimeWarning)\n",
    "warnings.filterwarnings('ignore', category=DeprecationWarning)\n",
    "\n",
    "np.set_printoptions(suppress=True)\n",
    "\n",
    "from __Function__ import *\n",
    "\n",
    "np.random.seed(42)"
   ]
  },
  {
   "cell_type": "markdown",
   "id": "20c6128f",
   "metadata": {},
   "source": [
    "# Importing Data"
   ]
  },
  {
   "cell_type": "code",
   "execution_count": 2,
   "id": "71cf0270",
   "metadata": {},
   "outputs": [],
   "source": [
    "path = r'C:\\Users\\baris\\Desktop\\Master Thesis\\1. Python\\Data\\Option_Calibration_SPX_18072025_WMC.csv'\n",
    "df = pd.read_csv(path, index_col=None)\n",
    "spx_price = 6296.79"
   ]
  },
  {
   "cell_type": "markdown",
   "id": "0562fb3e",
   "metadata": {},
   "source": [
    "# Calibration of the Weighted Monte Carlo under BS model "
   ]
  },
  {
   "cell_type": "code",
   "execution_count": 3,
   "id": "6635403f",
   "metadata": {},
   "outputs": [],
   "source": [
    "S0 = spx_price  # Data from 18 july 2025\n",
    "r = 0.0408      # Data from 18 july 2025\n",
    "T_max = np.max(df['Maturity'].to_numpy('float'))\n",
    "market_prices = df['Price'].to_numpy('float')\n",
    "strikes = df['Strike'].to_numpy('float')\n",
    "average_IV = df['IV'].mean()"
   ]
  },
  {
   "cell_type": "code",
   "execution_count": 4,
   "id": "b74a203c",
   "metadata": {},
   "outputs": [
    {
     "data": {
      "text/plain": [
       "np.float64(0.14159604913333332)"
      ]
     },
     "execution_count": 4,
     "metadata": {},
     "output_type": "execute_result"
    }
   ],
   "source": [
    "average_IV"
   ]
  },
  {
   "cell_type": "code",
   "execution_count": 5,
   "id": "df9da208",
   "metadata": {},
   "outputs": [],
   "source": [
    "dates = sorted(set(df['Maturity'])) # Sort maturity \n",
    "dates_day = np.array([int(np.ceil(date * 252)) for date in dates]) # Convert the maturity to number of steps\n",
    "\n",
    "dt = 1/252 # Amplitude of step\n",
    "N_paths = 50_000 # Number of path\n",
    "N_steps = int(np.ceil(T_max / dt)) # Max number of needed step"
   ]
  },
  {
   "cell_type": "code",
   "execution_count": 6,
   "id": "ad388298",
   "metadata": {},
   "outputs": [],
   "source": [
    "def monte_carlo_path(S0, r, sigma, N_paths, N_steps): \n",
    "    Z = np.random.randn(N_paths, N_steps+1)\n",
    "    paths = (r - 0.5 * sigma**2) * dt + sigma * np.sqrt(dt) * Z\n",
    "    return np.array(S0*np.exp(np.cumsum(paths,axis=1)))"
   ]
  },
  {
   "cell_type": "code",
   "execution_count": 7,
   "id": "fd624d79",
   "metadata": {},
   "outputs": [],
   "source": [
    "simulated_prices = monte_carlo_path(S0, r, average_IV, N_paths, N_steps)\n",
    "discount_factor = np.exp(-r*np.array(dates))      # The discount factor for different maturity\n",
    "\n",
    "g=np.array(np.zeros(shape=(N_paths, len(df))))    # initialize payoff matrix (V x N) \n",
    "C=np.zeros(shape=(len(df)))                       # Price vector (N)"
   ]
  },
  {
   "cell_type": "code",
   "execution_count": 8,
   "id": "f599d09b",
   "metadata": {},
   "outputs": [],
   "source": [
    "# Calculate the PV of payoffs for all the instruments\n",
    "time_list = sorted(set(df['Maturity']))\n",
    "\n",
    "for i, row in enumerate(df.values):\n",
    "    time_index = time_list.index(row[0])\n",
    "    date_index = dates_day[time_index]\n",
    "    if df['Strike'][i] == 0:\n",
    "        g[:, i] = (row[2] - simulated_prices[:, date_index]) * discount_factor[time_index]\n",
    "        C[i]=row[1] \n",
    "    else:\n",
    "        g[:, i] = np.maximum((simulated_prices[:, date_index] - row[1]), 0) * discount_factor[time_index]\n",
    "        C[i]=row[2]"
   ]
  },
  {
   "cell_type": "code",
   "execution_count": 9,
   "id": "808870d4",
   "metadata": {},
   "outputs": [
    {
     "name": "stdout",
     "output_type": "stream",
     "text": [
      "payoff: (50000, 36)\n",
      "market_prices: (36,)\n"
     ]
    }
   ],
   "source": [
    "# Check of the shape, we need (V x N) and (N)\n",
    "print(\"payoff:\", g.shape)\n",
    "print(\"market_prices:\", np.array(market_prices).shape)"
   ]
  },
  {
   "cell_type": "code",
   "execution_count": 10,
   "id": "32f66952",
   "metadata": {},
   "outputs": [],
   "source": [
    "# Normalisation\n",
    "g_normalize = g / spx_price\n",
    "C_normalize = C / spx_price"
   ]
  },
  {
   "cell_type": "code",
   "execution_count": 11,
   "id": "84d5749d",
   "metadata": {},
   "outputs": [
    {
     "data": {
      "text/plain": [
       "  message: CONVERGENCE: NORM OF PROJECTED GRADIENT <= PGTOL\n",
       "  success: True\n",
       "   status: 0\n",
       "      fun: 10.353984174466175\n",
       "        x: [-2.520e+01  3.752e+01 ...  1.194e+01 -2.371e+00]\n",
       "      nit: 126\n",
       "      jac: [ 1.868e-06 -2.483e-06 ... -7.303e-06 -5.152e-06]\n",
       "     nfev: 143\n",
       "     njev: 143\n",
       " hess_inv: <36x36 LbfgsInvHessProduct with dtype=float64>"
      ]
     },
     "execution_count": 11,
     "metadata": {},
     "output_type": "execute_result"
    }
   ],
   "source": [
    "w = WMC(g_normalize, C_normalize)\n",
    "w.solve(options={'maxiter': 1e6, 'ftol': 1e-12}, e=1e-5, fPrime=True)\n",
    "w.opt_result"
   ]
  },
  {
   "cell_type": "code",
   "execution_count": 12,
   "id": "08488412",
   "metadata": {},
   "outputs": [],
   "source": [
    "WMC_lambda = w.lambda_ # Store lambda values\n",
    "WMC_weights = np.array(w.p).flatten() # Store optimal weights"
   ]
  },
  {
   "cell_type": "code",
   "execution_count": 13,
   "id": "1d37c7a1",
   "metadata": {},
   "outputs": [],
   "source": [
    "g_WMC = np.array(np.zeros(shape=(N_paths, len(df))))  \n",
    "C_WMC = np.zeros(shape=(len(df)))"
   ]
  },
  {
   "cell_type": "code",
   "execution_count": 14,
   "id": "ebb2f66a",
   "metadata": {},
   "outputs": [],
   "source": [
    "# Calculate the PV of payoffs for all the instruments with the WMC calibration\n",
    "time_list = sorted(set(df['Maturity']))\n",
    "\n",
    "for i, row in enumerate(df.values):\n",
    "    time_index = time_list.index(row[0])\n",
    "    date_index = dates_day[time_index]\n",
    "    if df['Strike'][i] == 0:\n",
    "        g_WMC[:, i] = (simulated_prices[:, date_index] * WMC_weights).sum()\n",
    "        C_WMC[i] = g_WMC[:, i].mean()\n",
    "    else:\n",
    "        g_WMC[:, i] = np.maximum(((simulated_prices[:, date_index] - row[1]) * WMC_weights), 0).sum() * discount_factor[time_index]\n",
    "        C_WMC[i] = g_WMC[:, i].mean()"
   ]
  },
  {
   "cell_type": "code",
   "execution_count": 15,
   "id": "0c28a2c6",
   "metadata": {},
   "outputs": [],
   "source": [
    "df['WMC_BS'] = C_WMC\n",
    "df['Error'] = abs((df['WMC_BS'] - market_prices))"
   ]
  },
  {
   "cell_type": "code",
   "execution_count": 16,
   "id": "481c3520",
   "metadata": {},
   "outputs": [
    {
     "data": {
      "text/plain": [
       "(np.float64(1.0148824411609176), np.float64(0.7224782433177381))"
      ]
     },
     "execution_count": 16,
     "metadata": {},
     "output_type": "execute_result"
    }
   ],
   "source": [
    "df['Error'].mean(), df['Error'].median()"
   ]
  },
  {
   "cell_type": "markdown",
   "id": "bfdf110a",
   "metadata": {},
   "source": [
    "# Summary of the Weighted Monte Carlo Calibration under BS "
   ]
  },
  {
   "cell_type": "code",
   "execution_count": 17,
   "id": "7ee8e267",
   "metadata": {},
   "outputs": [],
   "source": [
    "# Import the full data to compare how good is our calibrated BS model\n",
    "path = r'C:\\Users\\baris\\Desktop\\Master Thesis\\1. Python\\Data\\Option_Data_SPX_18072025.csv'  \n",
    "df_pricing = pd.read_csv(path, index_col=None)[['Maturity', 'Strike', 'Price']] "
   ]
  },
  {
   "cell_type": "code",
   "execution_count": 18,
   "id": "d07cecde",
   "metadata": {},
   "outputs": [],
   "source": [
    "strikes_pricing = df_pricing['Strike'].to_numpy('float')\n",
    "maturity_pricing = df_pricing['Maturity'].to_numpy('float')\n",
    "\n",
    "dates = sorted(set(df_pricing['Maturity']))\n",
    "discount_factor = np.exp(-r*np.array(dates)) "
   ]
  },
  {
   "cell_type": "code",
   "execution_count": 19,
   "id": "deec8656",
   "metadata": {},
   "outputs": [],
   "source": [
    "g_WMC = np.array(np.zeros(shape=(N_paths, len(df_pricing))))    # initialize payoff matrix  (V x N) \n",
    "C_WMC = np.zeros(shape=(len(df_pricing)))                       # initialize price vector (N)"
   ]
  },
  {
   "cell_type": "code",
   "execution_count": 20,
   "id": "5d822138",
   "metadata": {},
   "outputs": [],
   "source": [
    "# Calculate the PV of payoffs for all the instruments\n",
    "time_list = sorted(set(df_pricing['Maturity']))\n",
    "dates_day = np.array([int(np.ceil(date * 252)) for date in dates])\n",
    "\n",
    "for i, row in enumerate(df_pricing.values):\n",
    "    time_index = time_list.index(row[0])\n",
    "    date_index = dates_day[time_index]\n",
    "    g_WMC[:, i] = np.maximum(((simulated_prices[:, date_index] - row[1]) * WMC_weights), 0).sum() * discount_factor[time_index]\n",
    "    C_WMC[i]= g_WMC[:, i].mean()"
   ]
  },
  {
   "cell_type": "code",
   "execution_count": 21,
   "id": "39bf63a5",
   "metadata": {},
   "outputs": [],
   "source": [
    "df_pricing['WMC_BS_Price'] = C_WMC\n",
    "df_pricing['Error'] = abs((C_WMC - df_pricing['Price']))"
   ]
  },
  {
   "cell_type": "code",
   "execution_count": 22,
   "id": "d132f675",
   "metadata": {},
   "outputs": [
    {
     "data": {
      "text/html": [
       "<div>\n",
       "<style scoped>\n",
       "    .dataframe tbody tr th:only-of-type {\n",
       "        vertical-align: middle;\n",
       "    }\n",
       "\n",
       "    .dataframe tbody tr th {\n",
       "        vertical-align: top;\n",
       "    }\n",
       "\n",
       "    .dataframe thead th {\n",
       "        text-align: right;\n",
       "    }\n",
       "</style>\n",
       "<table border=\"1\" class=\"dataframe\">\n",
       "  <thead>\n",
       "    <tr style=\"text-align: right;\">\n",
       "      <th></th>\n",
       "      <th>Metric Maturity</th>\n",
       "      <th>Mean Eror (abs)</th>\n",
       "    </tr>\n",
       "  </thead>\n",
       "  <tbody>\n",
       "    <tr>\n",
       "      <th>0</th>\n",
       "      <td>Mean (Filtered for maturity &lt; 0.3, Price = 143...</td>\n",
       "      <td>4.6443</td>\n",
       "    </tr>\n",
       "    <tr>\n",
       "      <th>1</th>\n",
       "      <td>Mean (Filtered for maturity &gt;= 0.3 and &lt; 0.6, ...</td>\n",
       "      <td>4.9590</td>\n",
       "    </tr>\n",
       "    <tr>\n",
       "      <th>2</th>\n",
       "      <td>Mean (Filtered for maturity &gt;= 0.6, Price = 35...</td>\n",
       "      <td>7.2572</td>\n",
       "    </tr>\n",
       "  </tbody>\n",
       "</table>\n",
       "</div>"
      ],
      "text/plain": [
       "                                     Metric Maturity Mean Eror (abs)\n",
       "0  Mean (Filtered for maturity < 0.3, Price = 143...          4.6443\n",
       "1  Mean (Filtered for maturity >= 0.3 and < 0.6, ...          4.9590\n",
       "2  Mean (Filtered for maturity >= 0.6, Price = 35...          7.2572"
      ]
     },
     "execution_count": 22,
     "metadata": {},
     "output_type": "execute_result"
    }
   ],
   "source": [
    "maturity_error = Comparaison.comparaison_maturity(df_pricing)\n",
    "maturity_error"
   ]
  },
  {
   "cell_type": "code",
   "execution_count": 23,
   "id": "dda26fe6",
   "metadata": {},
   "outputs": [
    {
     "data": {
      "text/html": [
       "<div>\n",
       "<style scoped>\n",
       "    .dataframe tbody tr th:only-of-type {\n",
       "        vertical-align: middle;\n",
       "    }\n",
       "\n",
       "    .dataframe tbody tr th {\n",
       "        vertical-align: top;\n",
       "    }\n",
       "\n",
       "    .dataframe thead th {\n",
       "        text-align: right;\n",
       "    }\n",
       "</style>\n",
       "<table border=\"1\" class=\"dataframe\">\n",
       "  <thead>\n",
       "    <tr style=\"text-align: right;\">\n",
       "      <th></th>\n",
       "      <th>Metric Strike</th>\n",
       "      <th>Mean Eror (abs)</th>\n",
       "    </tr>\n",
       "  </thead>\n",
       "  <tbody>\n",
       "    <tr>\n",
       "      <th>0</th>\n",
       "      <td>Mean (Filtered for strike &lt; 100, Price = 357.6...</td>\n",
       "      <td>8.8014</td>\n",
       "    </tr>\n",
       "    <tr>\n",
       "      <th>1</th>\n",
       "      <td>Mean (Filtered for strike &gt;= 100 and &lt; 105, Pr...</td>\n",
       "      <td>4.0792</td>\n",
       "    </tr>\n",
       "    <tr>\n",
       "      <th>2</th>\n",
       "      <td>Mean (Filtered for strike &gt;= 105, Price = 75.9...</td>\n",
       "      <td>2.1464</td>\n",
       "    </tr>\n",
       "  </tbody>\n",
       "</table>\n",
       "</div>"
      ],
      "text/plain": [
       "                                       Metric Strike Mean Eror (abs)\n",
       "0  Mean (Filtered for strike < 100, Price = 357.6...          8.8014\n",
       "1  Mean (Filtered for strike >= 100 and < 105, Pr...          4.0792\n",
       "2  Mean (Filtered for strike >= 105, Price = 75.9...          2.1464"
      ]
     },
     "execution_count": 23,
     "metadata": {},
     "output_type": "execute_result"
    }
   ],
   "source": [
    "strike_error = Comparaison.comparaison_strike(df_pricing, spx_price)\n",
    "strike_error"
   ]
  },
  {
   "cell_type": "code",
   "execution_count": 24,
   "id": "54c22f4b",
   "metadata": {},
   "outputs": [
    {
     "data": {
      "text/html": [
       "<div>\n",
       "<style scoped>\n",
       "    .dataframe tbody tr th:only-of-type {\n",
       "        vertical-align: middle;\n",
       "    }\n",
       "\n",
       "    .dataframe tbody tr th {\n",
       "        vertical-align: top;\n",
       "    }\n",
       "\n",
       "    .dataframe thead th {\n",
       "        text-align: right;\n",
       "    }\n",
       "</style>\n",
       "<table border=\"1\" class=\"dataframe\">\n",
       "  <thead>\n",
       "    <tr style=\"text-align: right;\">\n",
       "      <th></th>\n",
       "      <th>Metric Surface</th>\n",
       "      <th>Mean Eror (abs)</th>\n",
       "    </tr>\n",
       "  </thead>\n",
       "  <tbody>\n",
       "    <tr>\n",
       "      <th>0</th>\n",
       "      <td>Mean (Filtered for price &lt; 81.70$, 20% Quantile)</td>\n",
       "      <td>2.3496</td>\n",
       "    </tr>\n",
       "    <tr>\n",
       "      <th>1</th>\n",
       "      <td>Mean (Filtered for price &gt; 81.70$, 20% Quantile)</td>\n",
       "      <td>6.0888</td>\n",
       "    </tr>\n",
       "    <tr>\n",
       "      <th>2</th>\n",
       "      <td>Mean (Filtered for price &gt; 214.65$, 50% Quantile)</td>\n",
       "      <td>7.8715</td>\n",
       "    </tr>\n",
       "    <tr>\n",
       "      <th>3</th>\n",
       "      <td>Mean (Filtered for price &gt; 370.98$, 80% Quantile)</td>\n",
       "      <td>9.1073</td>\n",
       "    </tr>\n",
       "    <tr>\n",
       "      <th>4</th>\n",
       "      <td>Mean</td>\n",
       "      <td>5.3103</td>\n",
       "    </tr>\n",
       "    <tr>\n",
       "      <th>5</th>\n",
       "      <td>Median</td>\n",
       "      <td>2.7789</td>\n",
       "    </tr>\n",
       "  </tbody>\n",
       "</table>\n",
       "</div>"
      ],
      "text/plain": [
       "                                      Metric Surface Mean Eror (abs)\n",
       "0   Mean (Filtered for price < 81.70$, 20% Quantile)          2.3496\n",
       "1   Mean (Filtered for price > 81.70$, 20% Quantile)          6.0888\n",
       "2  Mean (Filtered for price > 214.65$, 50% Quantile)          7.8715\n",
       "3  Mean (Filtered for price > 370.98$, 80% Quantile)          9.1073\n",
       "4                                               Mean          5.3103\n",
       "5                                             Median          2.7789"
      ]
     },
     "execution_count": 24,
     "metadata": {},
     "output_type": "execute_result"
    }
   ],
   "source": [
    "surface_error = Comparaison.comparaison_surface(df_pricing)\n",
    "surface_error"
   ]
  },
  {
   "cell_type": "code",
   "execution_count": 25,
   "id": "45bdacce",
   "metadata": {},
   "outputs": [
    {
     "name": "stdout",
     "output_type": "stream",
     "text": [
      "Relative entropy D(p||u): 0.3802033043192813\n",
      "Alpha : 0.9648603423910175\n",
      "Nombre effectif de paths nu* : 34186.119568300805\n",
      "Fraction du total : 0.6837223913660161\n"
     ]
    }
   ],
   "source": [
    "N = len(WMC_weights)\n",
    "u = np.full(N, 1/N)\n",
    "D_pu = np.sum(WMC_weights * np.log((WMC_weights + 1e-16) / u))\n",
    "print(\"Relative entropy D(p||u):\", D_pu)\n",
    "\n",
    "alpha = 1 - D_pu / np.log(N)\n",
    "print(\"Alpha :\", alpha)\n",
    "\n",
    "nu_star = N**alpha\n",
    "print(\"Nombre effectif de paths nu* :\", nu_star)\n",
    "print(\"Fraction du total :\", nu_star / N)"
   ]
  },
  {
   "cell_type": "code",
   "execution_count": 26,
   "id": "ebbe16e0",
   "metadata": {},
   "outputs": [
    {
     "data": {
      "text/html": [
       "<div>\n",
       "<style scoped>\n",
       "    .dataframe tbody tr th:only-of-type {\n",
       "        vertical-align: middle;\n",
       "    }\n",
       "\n",
       "    .dataframe tbody tr th {\n",
       "        vertical-align: top;\n",
       "    }\n",
       "\n",
       "    .dataframe thead th {\n",
       "        text-align: right;\n",
       "    }\n",
       "</style>\n",
       "<table border=\"1\" class=\"dataframe\">\n",
       "  <thead>\n",
       "    <tr style=\"text-align: right;\">\n",
       "      <th></th>\n",
       "      <th>Statistic</th>\n",
       "      <th>Value</th>\n",
       "    </tr>\n",
       "  </thead>\n",
       "  <tbody>\n",
       "    <tr>\n",
       "      <th>0</th>\n",
       "      <td>Mean</td>\n",
       "      <td>2e-05</td>\n",
       "    </tr>\n",
       "    <tr>\n",
       "      <th>1</th>\n",
       "      <td>Standard Error</td>\n",
       "      <td>9.69825e-08</td>\n",
       "    </tr>\n",
       "    <tr>\n",
       "      <th>2</th>\n",
       "      <td>Median</td>\n",
       "      <td>1.41753e-05</td>\n",
       "    </tr>\n",
       "    <tr>\n",
       "      <th>3</th>\n",
       "      <td>Mode</td>\n",
       "      <td>1.66453e-08</td>\n",
       "    </tr>\n",
       "    <tr>\n",
       "      <th>4</th>\n",
       "      <td>Standard Deviation</td>\n",
       "      <td>2.16859e-05</td>\n",
       "    </tr>\n",
       "    <tr>\n",
       "      <th>5</th>\n",
       "      <td>Sample Variance</td>\n",
       "      <td>4.7028e-10</td>\n",
       "    </tr>\n",
       "    <tr>\n",
       "      <th>6</th>\n",
       "      <td>Kurtosis</td>\n",
       "      <td>145.133</td>\n",
       "    </tr>\n",
       "    <tr>\n",
       "      <th>7</th>\n",
       "      <td>Skewness</td>\n",
       "      <td>7.32916</td>\n",
       "    </tr>\n",
       "    <tr>\n",
       "      <th>8</th>\n",
       "      <td>Range</td>\n",
       "      <td>0.000800237</td>\n",
       "    </tr>\n",
       "    <tr>\n",
       "      <th>9</th>\n",
       "      <td>Minimum</td>\n",
       "      <td>1.66453e-08</td>\n",
       "    </tr>\n",
       "    <tr>\n",
       "      <th>10</th>\n",
       "      <td>Maximum</td>\n",
       "      <td>0.000800253</td>\n",
       "    </tr>\n",
       "  </tbody>\n",
       "</table>\n",
       "</div>"
      ],
      "text/plain": [
       "             Statistic        Value\n",
       "0                 Mean        2e-05\n",
       "1       Standard Error  9.69825e-08\n",
       "2               Median  1.41753e-05\n",
       "3                 Mode  1.66453e-08\n",
       "4   Standard Deviation  2.16859e-05\n",
       "5      Sample Variance   4.7028e-10\n",
       "6             Kurtosis      145.133\n",
       "7             Skewness      7.32916\n",
       "8                Range  0.000800237\n",
       "9              Minimum  1.66453e-08\n",
       "10             Maximum  0.000800253"
      ]
     },
     "execution_count": 26,
     "metadata": {},
     "output_type": "execute_result"
    }
   ],
   "source": [
    "df_stats = Comparaison.stats_weights(WMC_weights)\n",
    "df_stats"
   ]
  },
  {
   "cell_type": "code",
   "execution_count": 27,
   "id": "8b32bf45",
   "metadata": {},
   "outputs": [
    {
     "data": {
      "image/png": "[encoded data removed]",
      "text/plain": [
       "<Figure size 1400x600 with 1 Axes>"
      ]
     },
     "metadata": {},
     "output_type": "display_data"
    }
   ],
   "source": [
    "N = len(WMC_weights)\n",
    "x = np.arange(1, N+1)\n",
    "\n",
    "plt.figure(figsize=(14, 6))\n",
    "plt.plot(x, WMC_weights, color='navy', linewidth=0.7)\n",
    "plt.xlabel('path #')\n",
    "plt.ylabel('probability')\n",
    "plt.title('Distribution of Calibrated Path Weights')\n",
    "\n",
    "tick_spacing = max(1, N // 20)\n",
    "\n",
    "plt.xticks(np.arange(1, N+1, tick_spacing))\n",
    "plt.grid(True, linestyle=':', linewidth=0.5)\n",
    "plt.savefig(r\"C:\\Users\\baris\\Desktop\\Master Thesis\\2. Writing\\BS\\WMC_BS_distribution_weights.png\", dpi=300, bbox_inches='tight')"
   ]
  },
  {
   "cell_type": "code",
   "execution_count": 28,
   "id": "11cadee3",
   "metadata": {},
   "outputs": [],
   "source": [
    "Comparaison.saving_data(maturity_error, 'BS\\WMC_BS_maturity_error')\n",
    "Comparaison.saving_data(strike_error, 'BS\\WMC_BS_strike_error')\n",
    "Comparaison.saving_data(surface_error, 'BS\\WMC_BS_surface_error')\n",
    "Comparaison.saving_data(df_stats, 'BS\\WMC_BS_recap_stat')"
   ]
  },
  {
   "cell_type": "code",
   "execution_count": null,
   "id": "04b1229f",
   "metadata": {},
   "outputs": [],
   "source": []
  },
  {
   "cell_type": "code",
   "execution_count": null,
   "id": "5190d709",
   "metadata": {},
   "outputs": [],
   "source": []
  }
 ],
 "metadata": {
  "kernelspec": {
   "display_name": "Python 3",
   "language": "python",
   "name": "python3"
  },
  "language_info": {
   "codemirror_mode": {
    "name": "ipython",
    "version": 3
   },
   "file_extension": ".py",
   "mimetype": "text/x-python",
   "name": "python",
   "nbconvert_exporter": "python",
   "pygments_lexer": "ipython3",
   "version": "3.11.9"
  }
 },
 "nbformat": 4,
 "nbformat_minor": 5
}
