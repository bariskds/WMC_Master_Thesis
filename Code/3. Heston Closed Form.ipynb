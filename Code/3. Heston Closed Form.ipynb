{
 "cells": [
  {
   "cell_type": "markdown",
   "id": "c77e5bee",
   "metadata": {},
   "source": [
    "# Importing necessary package"
   ]
  },
  {
   "cell_type": "code",
   "execution_count": 1,
   "id": "8ba240e6",
   "metadata": {},
   "outputs": [],
   "source": [
    "import pandas as pd \n",
    "import numpy as np\n",
    "import time\n",
    "\n",
    "from scipy.stats import norm\n",
    "from scipy.optimize import minimize\n",
    "from scipy.integrate import quad\n",
    "\n",
    "import warnings\n",
    "warnings.filterwarnings('ignore', category=RuntimeWarning)\n",
    "warnings.filterwarnings('ignore', category=DeprecationWarning)\n",
    "\n",
    "np.set_printoptions(suppress=True)\n",
    "\n",
    "from __Function__ import *\n",
    "\n",
    "np.random.seed(42)"
   ]
  },
  {
   "cell_type": "markdown",
   "id": "fde5170a",
   "metadata": {},
   "source": [
    "# Importing Data"
   ]
  },
  {
   "cell_type": "code",
   "execution_count": 2,
   "id": "9e45d6a6",
   "metadata": {},
   "outputs": [],
   "source": [
    "path = r'C:\\Users\\baris\\Desktop\\Master Thesis\\1. Python\\Data\\Option_Calibration_SPX_18072025.csv'\n",
    "df = pd.read_csv(path, index_col=None)\n",
    "spx_price = 6296.79"
   ]
  },
  {
   "cell_type": "markdown",
   "id": "7aae2f8f",
   "metadata": {},
   "source": [
    "# Calibration of the Heston CF Model"
   ]
  },
  {
   "cell_type": "code",
   "execution_count": null,
   "id": "f246941a",
   "metadata": {},
   "outputs": [],
   "source": [
    "def heston_charfunc(phi, S0, v0, kappa, theta, sigma, rho, lambd, tau, r):\n",
    "\n",
    "    a = kappa*theta\n",
    "    b = kappa+lambd\n",
    "\n",
    "    rspi = rho*sigma*phi*1j\n",
    "    d = np.sqrt((rho*sigma*phi*1j - b)**2 + (phi*1j+phi**2)*sigma**2)\n",
    "\n",
    "    g = (b-rspi+d) / (b-rspi-d)\n",
    "    exp1 = np.exp(r*phi*1j*tau)\n",
    "    term2 = S0**(phi*1j) * ((1-g*np.exp(d*tau))/(1-g))**(-2*a/sigma**2)\n",
    "\n",
    "    max_exponent = 700\n",
    "    exp_value = a * tau * (b - rspi + d) / sigma**2 + v0 * (b - rspi + d) * ((1 - np.exp(d * tau)) / (1 - g * np.exp(d * tau))) / sigma**2\n",
    "    exp_value = np.clip(exp_value, -max_exponent, max_exponent)\n",
    "    exp2 = np.exp(exp_value)\n",
    "    \n",
    "    return exp1*term2*exp2"
   ]
  },
  {
   "cell_type": "code",
   "execution_count": null,
   "id": "1e1a8eeb",
   "metadata": {},
   "outputs": [],
   "source": [
    "def integrand(phi, S0, K, v0, kappa, theta, sigma, rho, lambd, tau, r):\n",
    "    \n",
    "    args = (S0, v0, kappa, theta, sigma, rho, lambd, tau, r)\n",
    "    numerator = np.exp(r*tau)*heston_charfunc(phi-1j, *args) - K*heston_charfunc(phi, *args)\n",
    "    denominator = 1j*phi*K**(1j*phi)\n",
    "    \n",
    "    return numerator/denominator"
   ]
  },
  {
   "cell_type": "code",
   "execution_count": null,
   "id": "2fb91189",
   "metadata": {},
   "outputs": [],
   "source": [
    "def heston_price_rec(S0, K, v0, kappa, theta, sigma, rho, lambd, tau, r):\n",
    "\n",
    "    args = (S0, v0, kappa, theta, sigma, rho, lambd, tau, r)\n",
    "    P, umax, N = 0, 100, 10000\n",
    "    dphi=umax/N \n",
    "\n",
    "    for i in range(1,N):\n",
    "        phi = dphi * (2*i + 1)/2\n",
    "        numerator = np.exp(r*tau) * heston_charfunc(phi-1j, *args) - K * heston_charfunc(phi, *args)\n",
    "        denominator = 1j * phi * K**(1j * phi)\n",
    "        P += dphi * numerator / denominator\n",
    "\n",
    "    return np.real((S0 - K * np.exp(-r * tau)) / 2 + P/np.pi)"
   ]
  },
  {
   "cell_type": "code",
   "execution_count": null,
   "id": "8859117c",
   "metadata": {},
   "outputs": [],
   "source": [
    "def heston_price(S0, K, v0, kappa, theta, sigma, rho, lambd, tau, r):\n",
    "\n",
    "    args = (S0, K, v0, kappa, theta, sigma, rho, lambd, tau, r)\n",
    "    real_integral, err = np.real(quad(integrand, 0, 100, args=args))\n",
    "    \n",
    "    return (S0 - K*np.exp(-r*tau))/2 + real_integral/np.pi"
   ]
  },
  {
   "cell_type": "code",
   "execution_count": 7,
   "id": "c0caaa48",
   "metadata": {},
   "outputs": [],
   "source": [
    "S0 = spx_price\n",
    "r = 0.0408\n",
    "\n",
    "r = np.array([0.0408 for i in range(len(df))])\n",
    "K = df['Strike'].to_numpy('float')\n",
    "maturity = df['Maturity'].to_numpy('float')\n",
    "market_price = df['Price'].to_numpy('float')\n",
    "\n",
    "params = {\n",
    "    \"v0\": {\"x0\": 0.021, \"lbub\": [1e-4, 0.5]},\n",
    "    \"kappa\": {\"x0\": 1.5, \"lbub\": [1e-3, 5]},\n",
    "    \"theta\": {\"x0\": 0.02, \"lbub\": [1e-4, 0.5]},\n",
    "    \"sigma\": {\"x0\": 0.3, \"lbub\": [1e-2, 1]},\n",
    "    \"rho\": {\"x0\": -0.5, \"lbub\": [-1, 1]},\n",
    "    \"lambd\": {\"x0\": -0.5, \"lbub\": [-1, 1]},\n",
    "    }"
   ]
  },
  {
   "cell_type": "code",
   "execution_count": 11,
   "id": "41c6abb9",
   "metadata": {},
   "outputs": [],
   "source": [
    "def SqErr(x):\n",
    "    v0, kappa, theta, sigma, rho, lambd = x\n",
    "    err = np.sum((market_price - heston_price_rec(S0, K, v0, kappa, theta, sigma, rho, lambd, maturity, r))**2 / len(market_price))\n",
    "    return err + 0"
   ]
  },
  {
   "cell_type": "code",
   "execution_count": 12,
   "id": "23a2d521",
   "metadata": {},
   "outputs": [],
   "source": [
    "x0 = [param[\"x0\"] for key, param in params.items()]\n",
    "bnds = [param[\"lbub\"] for key, param in params.items()]"
   ]
  },
  {
   "cell_type": "code",
   "execution_count": 13,
   "id": "af48f470",
   "metadata": {},
   "outputs": [
    {
     "data": {
      "text/plain": [
       "  message: CONVERGENCE: RELATIVE REDUCTION OF F <= FACTR*EPSMCH\n",
       "  success: True\n",
       "   status: 0\n",
       "      fun: 62.266366831041864\n",
       "        x: [ 2.028e-02  2.133e+00  1.730e-02  1.146e-01 -2.038e-01\n",
       "            -2.078e-01]\n",
       "      nit: 29\n",
       "      jac: [-5.802e+01 -3.685e-01 -3.391e+01 -5.795e-01  1.829e+00\n",
       "            -9.317e-02]\n",
       "     nfev: 238\n",
       "     njev: 34\n",
       " hess_inv: <6x6 LbfgsInvHessProduct with dtype=float64>"
      ]
     },
     "execution_count": 13,
     "metadata": {},
     "output_type": "execute_result"
    }
   ],
   "source": [
    "start = time.time()\n",
    "result = minimize(SqErr, x0, method='L-BFGS-B', options={'maxiter': 1e6, 'ftol': 1e-5, 'disp':True}, bounds=bnds)\n",
    "end = time.time()\n",
    "\n",
    "total_time = end - start\n",
    "\n",
    "result"
   ]
  },
  {
   "cell_type": "code",
   "execution_count": 14,
   "id": "3ac86abf",
   "metadata": {},
   "outputs": [
    {
     "data": {
      "text/plain": [
       "246.62200665473938"
      ]
     },
     "execution_count": 14,
     "metadata": {},
     "output_type": "execute_result"
    }
   ],
   "source": [
    "total_time"
   ]
  },
  {
   "cell_type": "code",
   "execution_count": 15,
   "id": "ee5be43b",
   "metadata": {},
   "outputs": [
    {
     "data": {
      "text/plain": [
       "(np.float64(0.020278187219256612),\n",
       " np.float64(2.1329444106531006),\n",
       " np.float64(0.017297302604897306),\n",
       " np.float64(0.11457520850858496),\n",
       " np.float64(-0.2038406618309211),\n",
       " np.float64(-0.20777167036522193))"
      ]
     },
     "execution_count": 15,
     "metadata": {},
     "output_type": "execute_result"
    }
   ],
   "source": [
    "v0, kappa, theta, sigma, rho, lambd = [param for param in result.x]\n",
    "v0, kappa, theta, sigma, rho, lambd "
   ]
  },
  {
   "cell_type": "code",
   "execution_count": 16,
   "id": "d128a3c0",
   "metadata": {},
   "outputs": [],
   "source": [
    "heston_prices = heston_price_rec(S0, K, v0, kappa, theta, sigma, rho, lambd, maturity, r)"
   ]
  },
  {
   "cell_type": "code",
   "execution_count": 17,
   "id": "11d385df",
   "metadata": {},
   "outputs": [],
   "source": [
    "df['Heston_CF'] = heston_prices\n",
    "df['Error'] = abs((df['Heston_CF'] - market_price))"
   ]
  },
  {
   "cell_type": "code",
   "execution_count": 18,
   "id": "c79ef1e8",
   "metadata": {},
   "outputs": [
    {
     "data": {
      "text/plain": [
       "(np.float64(6.305833692132371), np.float64(4.854343741332542))"
      ]
     },
     "execution_count": 18,
     "metadata": {},
     "output_type": "execute_result"
    }
   ],
   "source": [
    "df['Error'].mean(), df['Error'].median()"
   ]
  },
  {
   "cell_type": "markdown",
   "id": "4914c9d7",
   "metadata": {},
   "source": [
    "# Summary of the Heston CF "
   ]
  },
  {
   "cell_type": "code",
   "execution_count": 19,
   "id": "24f07074",
   "metadata": {},
   "outputs": [],
   "source": [
    "path = r'C:\\Users\\baris\\Desktop\\Master Thesis\\1. Python\\Data\\Option_Data_SPX_18072025.csv'\n",
    "df_pricing = pd.read_csv(path, index_col=None)"
   ]
  },
  {
   "cell_type": "code",
   "execution_count": 20,
   "id": "26c005c4",
   "metadata": {},
   "outputs": [],
   "source": [
    "r = np.array([0.0408 for i in range(len(df_pricing))])\n",
    "K = df_pricing['Strike'].to_numpy('float')\n",
    "maturity = df_pricing['Maturity'].to_numpy('float')\n",
    "market_prices = df_pricing['Price'].to_numpy('float')"
   ]
  },
  {
   "cell_type": "code",
   "execution_count": 21,
   "id": "80d09ea7",
   "metadata": {},
   "outputs": [],
   "source": [
    "heston_prices = heston_price_rec(S0, K, v0, kappa, theta, sigma, rho, lambd, maturity, r)"
   ]
  },
  {
   "cell_type": "code",
   "execution_count": 22,
   "id": "6ec76aa7",
   "metadata": {},
   "outputs": [],
   "source": [
    "df_pricing['Heston_CF'] = heston_prices\n",
    "df_pricing['Error'] = abs((heston_prices - market_prices))"
   ]
  },
  {
   "cell_type": "code",
   "execution_count": 23,
   "id": "f01e9a51",
   "metadata": {},
   "outputs": [
    {
     "data": {
      "text/html": [
       "<div>\n",
       "<style scoped>\n",
       "    .dataframe tbody tr th:only-of-type {\n",
       "        vertical-align: middle;\n",
       "    }\n",
       "\n",
       "    .dataframe tbody tr th {\n",
       "        vertical-align: top;\n",
       "    }\n",
       "\n",
       "    .dataframe thead th {\n",
       "        text-align: right;\n",
       "    }\n",
       "</style>\n",
       "<table border=\"1\" class=\"dataframe\">\n",
       "  <thead>\n",
       "    <tr style=\"text-align: right;\">\n",
       "      <th></th>\n",
       "      <th>Metric Maturity</th>\n",
       "      <th>Mean Eror (abs)</th>\n",
       "    </tr>\n",
       "  </thead>\n",
       "  <tbody>\n",
       "    <tr>\n",
       "      <th>0</th>\n",
       "      <td>Mean (Filtered for maturity &lt; 0.3, Price = 143...</td>\n",
       "      <td>6.7269</td>\n",
       "    </tr>\n",
       "    <tr>\n",
       "      <th>1</th>\n",
       "      <td>Mean (Filtered for maturity &gt;= 0.3 and &lt; 0.6, ...</td>\n",
       "      <td>6.2575</td>\n",
       "    </tr>\n",
       "    <tr>\n",
       "      <th>2</th>\n",
       "      <td>Mean (Filtered for maturity &gt;= 0.6, Price = 35...</td>\n",
       "      <td>6.2137</td>\n",
       "    </tr>\n",
       "  </tbody>\n",
       "</table>\n",
       "</div>"
      ],
      "text/plain": [
       "                                     Metric Maturity Mean Eror (abs)\n",
       "0  Mean (Filtered for maturity < 0.3, Price = 143...          6.7269\n",
       "1  Mean (Filtered for maturity >= 0.3 and < 0.6, ...          6.2575\n",
       "2  Mean (Filtered for maturity >= 0.6, Price = 35...          6.2137"
      ]
     },
     "execution_count": 23,
     "metadata": {},
     "output_type": "execute_result"
    }
   ],
   "source": [
    "maturity_error = Comparaison.comparaison_maturity(df_pricing)\n",
    "maturity_error"
   ]
  },
  {
   "cell_type": "code",
   "execution_count": 24,
   "id": "f1ea2623",
   "metadata": {},
   "outputs": [
    {
     "data": {
      "text/html": [
       "<div>\n",
       "<style scoped>\n",
       "    .dataframe tbody tr th:only-of-type {\n",
       "        vertical-align: middle;\n",
       "    }\n",
       "\n",
       "    .dataframe tbody tr th {\n",
       "        vertical-align: top;\n",
       "    }\n",
       "\n",
       "    .dataframe thead th {\n",
       "        text-align: right;\n",
       "    }\n",
       "</style>\n",
       "<table border=\"1\" class=\"dataframe\">\n",
       "  <thead>\n",
       "    <tr style=\"text-align: right;\">\n",
       "      <th></th>\n",
       "      <th>Metric Strike</th>\n",
       "      <th>Mean Eror (abs)</th>\n",
       "    </tr>\n",
       "  </thead>\n",
       "  <tbody>\n",
       "    <tr>\n",
       "      <th>0</th>\n",
       "      <td>Mean (Filtered for strike &lt; 100, Price = 357.6...</td>\n",
       "      <td>9.2830</td>\n",
       "    </tr>\n",
       "    <tr>\n",
       "      <th>1</th>\n",
       "      <td>Mean (Filtered for strike &gt;= 100 and &lt; 105, Pr...</td>\n",
       "      <td>5.6573</td>\n",
       "    </tr>\n",
       "    <tr>\n",
       "      <th>2</th>\n",
       "      <td>Mean (Filtered for strike &gt;= 105, Price = 75.9...</td>\n",
       "      <td>3.5780</td>\n",
       "    </tr>\n",
       "  </tbody>\n",
       "</table>\n",
       "</div>"
      ],
      "text/plain": [
       "                                       Metric Strike Mean Eror (abs)\n",
       "0  Mean (Filtered for strike < 100, Price = 357.6...          9.2830\n",
       "1  Mean (Filtered for strike >= 100 and < 105, Pr...          5.6573\n",
       "2  Mean (Filtered for strike >= 105, Price = 75.9...          3.5780"
      ]
     },
     "execution_count": 24,
     "metadata": {},
     "output_type": "execute_result"
    }
   ],
   "source": [
    "strike_error = Comparaison.comparaison_strike(df_pricing, spx_price)\n",
    "strike_error"
   ]
  },
  {
   "cell_type": "code",
   "execution_count": 25,
   "id": "ca611ad4",
   "metadata": {},
   "outputs": [
    {
     "data": {
      "text/html": [
       "<div>\n",
       "<style scoped>\n",
       "    .dataframe tbody tr th:only-of-type {\n",
       "        vertical-align: middle;\n",
       "    }\n",
       "\n",
       "    .dataframe tbody tr th {\n",
       "        vertical-align: top;\n",
       "    }\n",
       "\n",
       "    .dataframe thead th {\n",
       "        text-align: right;\n",
       "    }\n",
       "</style>\n",
       "<table border=\"1\" class=\"dataframe\">\n",
       "  <thead>\n",
       "    <tr style=\"text-align: right;\">\n",
       "      <th></th>\n",
       "      <th>Metric Surface</th>\n",
       "      <th>Mean Eror (abs)</th>\n",
       "    </tr>\n",
       "  </thead>\n",
       "  <tbody>\n",
       "    <tr>\n",
       "      <th>0</th>\n",
       "      <td>Mean (Filtered for price &lt; 81.70$, 20% Quantile)</td>\n",
       "      <td>5.1794</td>\n",
       "    </tr>\n",
       "    <tr>\n",
       "      <th>1</th>\n",
       "      <td>Mean (Filtered for price &gt; 81.70$, 20% Quantile)</td>\n",
       "      <td>6.7500</td>\n",
       "    </tr>\n",
       "    <tr>\n",
       "      <th>2</th>\n",
       "      <td>Mean (Filtered for price &gt; 214.65$, 50% Quantile)</td>\n",
       "      <td>8.2757</td>\n",
       "    </tr>\n",
       "    <tr>\n",
       "      <th>3</th>\n",
       "      <td>Mean (Filtered for price &gt; 370.98$, 80% Quantile)</td>\n",
       "      <td>9.3834</td>\n",
       "    </tr>\n",
       "    <tr>\n",
       "      <th>4</th>\n",
       "      <td>Mean</td>\n",
       "      <td>6.4459</td>\n",
       "    </tr>\n",
       "    <tr>\n",
       "      <th>5</th>\n",
       "      <td>Median</td>\n",
       "      <td>5.1133</td>\n",
       "    </tr>\n",
       "  </tbody>\n",
       "</table>\n",
       "</div>"
      ],
      "text/plain": [
       "                                      Metric Surface Mean Eror (abs)\n",
       "0   Mean (Filtered for price < 81.70$, 20% Quantile)          5.1794\n",
       "1   Mean (Filtered for price > 81.70$, 20% Quantile)          6.7500\n",
       "2  Mean (Filtered for price > 214.65$, 50% Quantile)          8.2757\n",
       "3  Mean (Filtered for price > 370.98$, 80% Quantile)          9.3834\n",
       "4                                               Mean          6.4459\n",
       "5                                             Median          5.1133"
      ]
     },
     "execution_count": 25,
     "metadata": {},
     "output_type": "execute_result"
    }
   ],
   "source": [
    "surface_error = Comparaison.comparaison_surface(df_pricing)\n",
    "surface_error"
   ]
  },
  {
   "cell_type": "code",
   "execution_count": 26,
   "id": "83b2badd",
   "metadata": {},
   "outputs": [],
   "source": [
    "Comparaison.saving_data(maturity_error, 'Heston\\Heston_maturity_error')\n",
    "Comparaison.saving_data(strike_error, 'Heston\\Heston_strike_error')\n",
    "Comparaison.saving_data(surface_error, 'Heston\\Heston_surface_error')"
   ]
  },
  {
   "cell_type": "markdown",
   "id": "6ef43adb",
   "metadata": {},
   "source": [
    "# Implied Volatility"
   ]
  },
  {
   "cell_type": "code",
   "execution_count": 27,
   "id": "719bcb8b",
   "metadata": {},
   "outputs": [],
   "source": [
    "def bs_price_call(S, K, T, r, sigma):\n",
    "    d1 = (np.log(S/K) + (r + 0.5*sigma**2)*T) / (sigma * np.sqrt(T))\n",
    "    d2 = d1 - sigma * np.sqrt(T)\n",
    "    return S * norm.cdf(d1) - K * np.exp(-r*T) * norm.cdf(d2)\n",
    "\n",
    "def bs_vega(S, K, T, r, sigma):\n",
    "    d1 = (np.log(S/K) + (r + 0.5*sigma**2)*T) / (sigma * np.sqrt(T))\n",
    "    return S * norm.pdf(d1) * np.sqrt(T)\n",
    "\n",
    "def implied_vol_newton(price, S, K, T, r, tol=1e-8, max_iterations=100):\n",
    "    sigma = 0.2 # Initial guess\n",
    "    for i in range(max_iterations):\n",
    "        price_bs = bs_price_call(S, K, T, r, sigma)\n",
    "        vega = bs_vega(S, K, T, r, sigma)\n",
    "        price_diff = price_bs - price\n",
    "        if abs(price_diff) < tol:\n",
    "            return sigma\n",
    "        sigma -= price_diff / vega\n",
    "        sigma = max(sigma, 1e-8) # Security to avoid 0\n",
    "    return sigma #If no convergence, return the last value"
   ]
  },
  {
   "cell_type": "code",
   "execution_count": 28,
   "id": "7d33cd16",
   "metadata": {},
   "outputs": [],
   "source": [
    "IV_Heston = []\n",
    "r = 0.0408\n",
    "\n",
    "for price, strike, maturity in zip(df_pricing['Heston_CF'], df_pricing['Strike'], df_pricing['Maturity']):\n",
    "    IV_Heston.append(implied_vol_newton(price, spx_price, strike, maturity, r))\n",
    "\n",
    "df_pricing['IV_Heston'] = IV_Heston"
   ]
  },
  {
   "cell_type": "code",
   "execution_count": 29,
   "id": "fd7f2fd6",
   "metadata": {},
   "outputs": [
    {
     "data": {
      "text/html": [
       "<div>\n",
       "<style scoped>\n",
       "    .dataframe tbody tr th:only-of-type {\n",
       "        vertical-align: middle;\n",
       "    }\n",
       "\n",
       "    .dataframe tbody tr th {\n",
       "        vertical-align: top;\n",
       "    }\n",
       "\n",
       "    .dataframe thead th {\n",
       "        text-align: right;\n",
       "    }\n",
       "</style>\n",
       "<table border=\"1\" class=\"dataframe\">\n",
       "  <thead>\n",
       "    <tr style=\"text-align: right;\">\n",
       "      <th></th>\n",
       "      <th>Maturity</th>\n",
       "      <th>Strike</th>\n",
       "      <th>Price</th>\n",
       "      <th>IV</th>\n",
       "      <th>Heston_CF</th>\n",
       "      <th>Error</th>\n",
       "      <th>IV_Heston</th>\n",
       "    </tr>\n",
       "  </thead>\n",
       "  <tbody>\n",
       "    <tr>\n",
       "      <th>0</th>\n",
       "      <td>0.109514</td>\n",
       "      <td>6000</td>\n",
       "      <td>370.98</td>\n",
       "      <td>0.197277</td>\n",
       "      <td>354.650981</td>\n",
       "      <td>16.329019</td>\n",
       "      <td>0.167672</td>\n",
       "    </tr>\n",
       "    <tr>\n",
       "      <th>1</th>\n",
       "      <td>0.109514</td>\n",
       "      <td>6150</td>\n",
       "      <td>247.82</td>\n",
       "      <td>0.176047</td>\n",
       "      <td>231.463041</td>\n",
       "      <td>16.356959</td>\n",
       "      <td>0.153242</td>\n",
       "    </tr>\n",
       "    <tr>\n",
       "      <th>2</th>\n",
       "      <td>0.109514</td>\n",
       "      <td>6175</td>\n",
       "      <td>212.64</td>\n",
       "      <td>0.150893</td>\n",
       "      <td>213.054012</td>\n",
       "      <td>0.414012</td>\n",
       "      <td>0.151459</td>\n",
       "    </tr>\n",
       "    <tr>\n",
       "      <th>3</th>\n",
       "      <td>0.109514</td>\n",
       "      <td>6200</td>\n",
       "      <td>196.59</td>\n",
       "      <td>0.151420</td>\n",
       "      <td>195.358157</td>\n",
       "      <td>1.231843</td>\n",
       "      <td>0.149798</td>\n",
       "    </tr>\n",
       "    <tr>\n",
       "      <th>4</th>\n",
       "      <td>0.109514</td>\n",
       "      <td>6225</td>\n",
       "      <td>177.37</td>\n",
       "      <td>0.146910</td>\n",
       "      <td>178.409238</td>\n",
       "      <td>1.039238</td>\n",
       "      <td>0.148239</td>\n",
       "    </tr>\n",
       "    <tr>\n",
       "      <th>...</th>\n",
       "      <td>...</td>\n",
       "      <td>...</td>\n",
       "      <td>...</td>\n",
       "      <td>...</td>\n",
       "      <td>...</td>\n",
       "      <td>...</td>\n",
       "      <td>...</td>\n",
       "    </tr>\n",
       "    <tr>\n",
       "      <th>356</th>\n",
       "      <td>0.742466</td>\n",
       "      <td>6650</td>\n",
       "      <td>238.40</td>\n",
       "      <td>0.141415</td>\n",
       "      <td>231.822835</td>\n",
       "      <td>6.577165</td>\n",
       "      <td>0.138346</td>\n",
       "    </tr>\n",
       "    <tr>\n",
       "      <th>357</th>\n",
       "      <td>0.742466</td>\n",
       "      <td>6700</td>\n",
       "      <td>206.71</td>\n",
       "      <td>0.135285</td>\n",
       "      <td>207.927861</td>\n",
       "      <td>1.217861</td>\n",
       "      <td>0.135861</td>\n",
       "    </tr>\n",
       "    <tr>\n",
       "      <th>358</th>\n",
       "      <td>0.742466</td>\n",
       "      <td>6750</td>\n",
       "      <td>188.41</td>\n",
       "      <td>0.134846</td>\n",
       "      <td>185.330423</td>\n",
       "      <td>3.079577</td>\n",
       "      <td>0.133365</td>\n",
       "    </tr>\n",
       "    <tr>\n",
       "      <th>359</th>\n",
       "      <td>0.742466</td>\n",
       "      <td>6800</td>\n",
       "      <td>165.62</td>\n",
       "      <td>0.131625</td>\n",
       "      <td>164.017326</td>\n",
       "      <td>1.602674</td>\n",
       "      <td>0.130837</td>\n",
       "    </tr>\n",
       "    <tr>\n",
       "      <th>360</th>\n",
       "      <td>0.742466</td>\n",
       "      <td>6900</td>\n",
       "      <td>129.17</td>\n",
       "      <td>0.127668</td>\n",
       "      <td>125.164677</td>\n",
       "      <td>4.005323</td>\n",
       "      <td>0.125565</td>\n",
       "    </tr>\n",
       "  </tbody>\n",
       "</table>\n",
       "<p>361 rows × 7 columns</p>\n",
       "</div>"
      ],
      "text/plain": [
       "     Maturity  Strike   Price        IV   Heston_CF      Error  IV_Heston\n",
       "0    0.109514    6000  370.98  0.197277  354.650981  16.329019   0.167672\n",
       "1    0.109514    6150  247.82  0.176047  231.463041  16.356959   0.153242\n",
       "2    0.109514    6175  212.64  0.150893  213.054012   0.414012   0.151459\n",
       "3    0.109514    6200  196.59  0.151420  195.358157   1.231843   0.149798\n",
       "4    0.109514    6225  177.37  0.146910  178.409238   1.039238   0.148239\n",
       "..        ...     ...     ...       ...         ...        ...        ...\n",
       "356  0.742466    6650  238.40  0.141415  231.822835   6.577165   0.138346\n",
       "357  0.742466    6700  206.71  0.135285  207.927861   1.217861   0.135861\n",
       "358  0.742466    6750  188.41  0.134846  185.330423   3.079577   0.133365\n",
       "359  0.742466    6800  165.62  0.131625  164.017326   1.602674   0.130837\n",
       "360  0.742466    6900  129.17  0.127668  125.164677   4.005323   0.125565\n",
       "\n",
       "[361 rows x 7 columns]"
      ]
     },
     "execution_count": 29,
     "metadata": {},
     "output_type": "execute_result"
    }
   ],
   "source": [
    "df_pricing"
   ]
  },
  {
   "cell_type": "code",
   "execution_count": 30,
   "id": "c4a5b1d7",
   "metadata": {},
   "outputs": [
    {
     "data": {
      "application/vnd.plotly.v1+json": {
       "config": {
        "plotlyServerURL": "https://plot.ly"
       },
       "data": [
        {
         "color": "blue",
         "name": "Market IV",
         "opacity": 0.4,
         "type": "mesh3d",
         "x": {
          "bdata": "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",
          "dtype": "f8"
         },
         "y": {
          "bdata": "cBcGGB8YOBhRGGoYgxicGLUYzhgAGTIZZBmWGfoZLBpwFwYYHxg4GFEYahiDGJwYtRjOGAAZMhlkGZYZ+hksGnAXBhgfGDgYURhqGIMYnBi1GM4YABkyGWQZlhn6GSwaXhpwFwYYHxg4GFEYahiDGJwYtRjOGAAZMhlkGZYZ+hksGl4akBpwFwYYHxg4GFEYahiDGJwYtRjOGAAZMhlkGZYZ+hksGl4akBpwFwYYHxg4GFEYahiDGJwYtRjOGAAZMhlkGZYZ+hksGl4akBr0GnAXBhgfGDgYURhqGIMYnBi1GM4YABkyGWQZlhn6GSwaXhqQGvQacBcGGB8YOBhRGGoYgxicGLUYzhgAGTIZZBmWGfoZLBpeGpAa9BpwFwYYHxg4GFEYahiDGJwYtRjOGAAZMhlkGZYZ+hksGl4akBr0GnAXBhgfGDgYURhqGIMYnBi1GM4YABkyGWQZlhn6GSwaXhqQGvQacBcGGB8YOBhRGGoYgxicGLUYzhgAGTIZZBmWGfoZLBpeGpAa9BpwFwYYHxg4GFEYahiDGJwYtRjOGAAZMhlkGZYZ+hksGl4akBr0GnAXBhgfGDgYURhqGIMYnBi1GM4YABkyGWQZlhn6GSwaXhqQGvQacBcGGB8YOBhRGGoYgxicGLUYzhgAGTIZZBmWGfoZLBpeGpAa9BpwFwYYHxg4GFEYahiDGJwYtRjOGAAZMhlkGZYZ+hksGl4akBr0GnAXBhgfGDgYURhqGIMYnBi1GM4YABkyGWQZlhn6GSwaXhqQGvQacBcGGB8YOBhRGGoYgxicGLUYzhgAGTIZZBmWGfoZLBpeGpAa9BpwFwYYHxg4GFEYahiDGJwYtRjOGAAZMhlkGZYZ+hksGl4akBr0GnAXBhgfGDgYURhqGIMYnBi1GM4YABkyGWQZlhn6GSwaXhqQGvQa",
          "dtype": "i2"
         },
         "z": {
          "bdata": "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",
          "dtype": "f8"
         }
        },
        {
         "marker": {
          "color": "red",
          "size": 7
         },
         "mode": "markers",
         "name": "Heston IV",
         "type": "scatter3d",
         "x": {
          "bdata": "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",
          "dtype": "f8"
         },
         "y": {
          "bdata": "cBcGGB8YOBhRGGoYgxicGLUYzhgAGTIZZBmWGfoZLBpwFwYYHxg4GFEYahiDGJwYtRjOGAAZMhlkGZYZ+hksGnAXBhgfGDgYURhqGIMYnBi1GM4YABkyGWQZlhn6GSwaXhpwFwYYHxg4GFEYahiDGJwYtRjOGAAZMhlkGZYZ+hksGl4akBpwFwYYHxg4GFEYahiDGJwYtRjOGAAZMhlkGZYZ+hksGl4akBpwFwYYHxg4GFEYahiDGJwYtRjOGAAZMhlkGZYZ+hksGl4akBr0GnAXBhgfGDgYURhqGIMYnBi1GM4YABkyGWQZlhn6GSwaXhqQGvQacBcGGB8YOBhRGGoYgxicGLUYzhgAGTIZZBmWGfoZLBpeGpAa9BpwFwYYHxg4GFEYahiDGJwYtRjOGAAZMhlkGZYZ+hksGl4akBr0GnAXBhgfGDgYURhqGIMYnBi1GM4YABkyGWQZlhn6GSwaXhqQGvQacBcGGB8YOBhRGGoYgxicGLUYzhgAGTIZZBmWGfoZLBpeGpAa9BpwFwYYHxg4GFEYahiDGJwYtRjOGAAZMhlkGZYZ+hksGl4akBr0GnAXBhgfGDgYURhqGIMYnBi1GM4YABkyGWQZlhn6GSwaXhqQGvQacBcGGB8YOBhRGGoYgxicGLUYzhgAGTIZZBmWGfoZLBpeGpAa9BpwFwYYHxg4GFEYahiDGJwYtRjOGAAZMhlkGZYZ+hksGl4akBr0GnAXBhgfGDgYURhqGIMYnBi1GM4YABkyGWQZlhn6GSwaXhqQGvQacBcGGB8YOBhRGGoYgxicGLUYzhgAGTIZZBmWGfoZLBpeGpAa9BpwFwYYHxg4GFEYahiDGJwYtRjOGAAZMhlkGZYZ+hksGl4akBr0GnAXBhgfGDgYURhqGIMYnBi1GM4YABkyGWQZlhn6GSwaXhqQGvQa",
          "dtype": "i2"
         },
         "z": {
          "bdata": "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",
          "dtype": "f8"
         }
        }
       ],
       "layout": {
        "height": 1000,
        "legend": {
         "x": 0.05,
         "y": 0.95
        },
        "scene": {
         "xaxis": {
          "title": {
           "text": "MATURITY"
          }
         },
         "yaxis": {
          "title": {
           "text": "STRIKE"
          }
         },
         "zaxis": {
          "title": {
           "text": "IMPLIED VOLATILITY"
          }
         }
        },
        "template": {
         "data": {
          "bar": [
           {
            "error_x": {
             "color": "#2a3f5f"
            },
            "error_y": {
             "color": "#2a3f5f"
            },
            "marker": {
             "line": {
              "color": "#E5ECF6",
              "width": 0.5
             },
             "pattern": {
              "fillmode": "overlay",
              "size": 10,
              "solidity": 0.2
             }
            },
            "type": "bar"
           }
          ],
          "barpolar": [
           {
            "marker": {
             "line": {
              "color": "#E5ECF6",
              "width": 0.5
             },
             "pattern": {
              "fillmode": "overlay",
              "size": 10,
              "solidity": 0.2
             }
            },
            "type": "barpolar"
           }
          ],
          "carpet": [
           {
            "aaxis": {
             "endlinecolor": "#2a3f5f",
             "gridcolor": "white",
             "linecolor": "white",
             "minorgridcolor": "white",
             "startlinecolor": "#2a3f5f"
            },
            "baxis": {
             "endlinecolor": "#2a3f5f",
             "gridcolor": "white",
             "linecolor": "white",
             "minorgridcolor": "white",
             "startlinecolor": "#2a3f5f"
            },
            "type": "carpet"
           }
          ],
          "choropleth": [
           {
            "colorbar": {
             "outlinewidth": 0,
             "ticks": ""
            },
            "type": "choropleth"
           }
          ],
          "contour": [
           {
            "colorbar": {
             "outlinewidth": 0,
             "ticks": ""
            },
            "colorscale": [
             [
              0,
              "#0d0887"
             ],
             [
              0.1111111111111111,
              "#46039f"
             ],
             [
              0.2222222222222222,
              "#7201a8"
             ],
             [
              0.3333333333333333,
              "#9c179e"
             ],
             [
              0.4444444444444444,
              "#bd3786"
             ],
             [
              0.5555555555555556,
              "#d8576b"
             ],
             [
              0.6666666666666666,
              "#ed7953"
             ],
             [
              0.7777777777777778,
              "#fb9f3a"
             ],
             [
              0.8888888888888888,
              "#fdca26"
             ],
             [
              1,
              "#f0f921"
             ]
            ],
            "type": "contour"
           }
          ],
          "contourcarpet": [
           {
            "colorbar": {
             "outlinewidth": 0,
             "ticks": ""
            },
            "type": "contourcarpet"
           }
          ],
          "heatmap": [
           {
            "colorbar": {
             "outlinewidth": 0,
             "ticks": ""
            },
            "colorscale": [
             [
              0,
              "#0d0887"
             ],
             [
              0.1111111111111111,
              "#46039f"
             ],
             [
              0.2222222222222222,
              "#7201a8"
             ],
             [
              0.3333333333333333,
              "#9c179e"
             ],
             [
              0.4444444444444444,
              "#bd3786"
             ],
             [
              0.5555555555555556,
              "#d8576b"
             ],
             [
              0.6666666666666666,
              "#ed7953"
             ],
             [
              0.7777777777777778,
              "#fb9f3a"
             ],
             [
              0.8888888888888888,
              "#fdca26"
             ],
             [
              1,
              "#f0f921"
             ]
            ],
            "type": "heatmap"
           }
          ],
          "histogram": [
           {
            "marker": {
             "pattern": {
              "fillmode": "overlay",
              "size": 10,
              "solidity": 0.2
             }
            },
            "type": "histogram"
           }
          ],
          "histogram2d": [
           {
            "colorbar": {
             "outlinewidth": 0,
             "ticks": ""
            },
            "colorscale": [
             [
              0,
              "#0d0887"
             ],
             [
              0.1111111111111111,
              "#46039f"
             ],
             [
              0.2222222222222222,
              "#7201a8"
             ],
             [
              0.3333333333333333,
              "#9c179e"
             ],
             [
              0.4444444444444444,
              "#bd3786"
             ],
             [
              0.5555555555555556,
              "#d8576b"
             ],
             [
              0.6666666666666666,
              "#ed7953"
             ],
             [
              0.7777777777777778,
              "#fb9f3a"
             ],
             [
              0.8888888888888888,
              "#fdca26"
             ],
             [
              1,
              "#f0f921"
             ]
            ],
            "type": "histogram2d"
           }
          ],
          "histogram2dcontour": [
           {
            "colorbar": {
             "outlinewidth": 0,
             "ticks": ""
            },
            "colorscale": [
             [
              0,
              "#0d0887"
             ],
             [
              0.1111111111111111,
              "#46039f"
             ],
             [
              0.2222222222222222,
              "#7201a8"
             ],
             [
              0.3333333333333333,
              "#9c179e"
             ],
             [
              0.4444444444444444,
              "#bd3786"
             ],
             [
              0.5555555555555556,
              "#d8576b"
             ],
             [
              0.6666666666666666,
              "#ed7953"
             ],
             [
              0.7777777777777778,
              "#fb9f3a"
             ],
             [
              0.8888888888888888,
              "#fdca26"
             ],
             [
              1,
              "#f0f921"
             ]
            ],
            "type": "histogram2dcontour"
           }
          ],
          "mesh3d": [
           {
            "colorbar": {
             "outlinewidth": 0,
             "ticks": ""
            },
            "type": "mesh3d"
           }
          ],
          "parcoords": [
           {
            "line": {
             "colorbar": {
              "outlinewidth": 0,
              "ticks": ""
             }
            },
            "type": "parcoords"
           }
          ],
          "pie": [
           {
            "automargin": true,
            "type": "pie"
           }
          ],
          "scatter": [
           {
            "fillpattern": {
             "fillmode": "overlay",
             "size": 10,
             "solidity": 0.2
            },
            "type": "scatter"
           }
          ],
          "scatter3d": [
           {
            "line": {
             "colorbar": {
              "outlinewidth": 0,
              "ticks": ""
             }
            },
            "marker": {
             "colorbar": {
              "outlinewidth": 0,
              "ticks": ""
             }
            },
            "type": "scatter3d"
           }
          ],
          "scattercarpet": [
           {
            "marker": {
             "colorbar": {
              "outlinewidth": 0,
              "ticks": ""
             }
            },
            "type": "scattercarpet"
           }
          ],
          "scattergeo": [
           {
            "marker": {
             "colorbar": {
              "outlinewidth": 0,
              "ticks": ""
             }
            },
            "type": "scattergeo"
           }
          ],
          "scattergl": [
           {
            "marker": {
             "colorbar": {
              "outlinewidth": 0,
              "ticks": ""
             }
            },
            "type": "scattergl"
           }
          ],
          "scattermap": [
           {
            "marker": {
             "colorbar": {
              "outlinewidth": 0,
              "ticks": ""
             }
            },
            "type": "scattermap"
           }
          ],
          "scattermapbox": [
           {
            "marker": {
             "colorbar": {
              "outlinewidth": 0,
              "ticks": ""
             }
            },
            "type": "scattermapbox"
           }
          ],
          "scatterpolar": [
           {
            "marker": {
             "colorbar": {
              "outlinewidth": 0,
              "ticks": ""
             }
            },
            "type": "scatterpolar"
           }
          ],
          "scatterpolargl": [
           {
            "marker": {
             "colorbar": {
              "outlinewidth": 0,
              "ticks": ""
             }
            },
            "type": "scatterpolargl"
           }
          ],
          "scatterternary": [
           {
            "marker": {
             "colorbar": {
              "outlinewidth": 0,
              "ticks": ""
             }
            },
            "type": "scatterternary"
           }
          ],
          "surface": [
           {
            "colorbar": {
             "outlinewidth": 0,
             "ticks": ""
            },
            "colorscale": [
             [
              0,
              "#0d0887"
             ],
             [
              0.1111111111111111,
              "#46039f"
             ],
             [
              0.2222222222222222,
              "#7201a8"
             ],
             [
              0.3333333333333333,
              "#9c179e"
             ],
             [
              0.4444444444444444,
              "#bd3786"
             ],
             [
              0.5555555555555556,
              "#d8576b"
             ],
             [
              0.6666666666666666,
              "#ed7953"
             ],
             [
              0.7777777777777778,
              "#fb9f3a"
             ],
             [
              0.8888888888888888,
              "#fdca26"
             ],
             [
              1,
              "#f0f921"
             ]
            ],
            "type": "surface"
           }
          ],
          "table": [
           {
            "cells": {
             "fill": {
              "color": "#EBF0F8"
             },
             "line": {
              "color": "white"
             }
            },
            "header": {
             "fill": {
              "color": "#C8D4E3"
             },
             "line": {
              "color": "white"
             }
            },
            "type": "table"
           }
          ]
         },
         "layout": {
          "annotationdefaults": {
           "arrowcolor": "#2a3f5f",
           "arrowhead": 0,
           "arrowwidth": 1
          },
          "autotypenumbers": "strict",
          "coloraxis": {
           "colorbar": {
            "outlinewidth": 0,
            "ticks": ""
           }
          },
          "colorscale": {
           "diverging": [
            [
             0,
             "#8e0152"
            ],
            [
             0.1,
             "#c51b7d"
            ],
            [
             0.2,
             "#de77ae"
            ],
            [
             0.3,
             "#f1b6da"
            ],
            [
             0.4,
             "#fde0ef"
            ],
            [
             0.5,
             "#f7f7f7"
            ],
            [
             0.6,
             "#e6f5d0"
            ],
            [
             0.7,
             "#b8e186"
            ],
            [
             0.8,
             "#7fbc41"
            ],
            [
             0.9,
             "#4d9221"
            ],
            [
             1,
             "#276419"
            ]
           ],
           "sequential": [
            [
             0,
             "#0d0887"
            ],
            [
             0.1111111111111111,
             "#46039f"
            ],
            [
             0.2222222222222222,
             "#7201a8"
            ],
            [
             0.3333333333333333,
             "#9c179e"
            ],
            [
             0.4444444444444444,
             "#bd3786"
            ],
            [
             0.5555555555555556,
             "#d8576b"
            ],
            [
             0.6666666666666666,
             "#ed7953"
            ],
            [
             0.7777777777777778,
             "#fb9f3a"
            ],
            [
             0.8888888888888888,
             "#fdca26"
            ],
            [
             1,
             "#f0f921"
            ]
           ],
           "sequentialminus": [
            [
             0,
             "#0d0887"
            ],
            [
             0.1111111111111111,
             "#46039f"
            ],
            [
             0.2222222222222222,
             "#7201a8"
            ],
            [
             0.3333333333333333,
             "#9c179e"
            ],
            [
             0.4444444444444444,
             "#bd3786"
            ],
            [
             0.5555555555555556,
             "#d8576b"
            ],
            [
             0.6666666666666666,
             "#ed7953"
            ],
            [
             0.7777777777777778,
             "#fb9f3a"
            ],
            [
             0.8888888888888888,
             "#fdca26"
            ],
            [
             1,
             "#f0f921"
            ]
           ]
          },
          "colorway": [
           "#636efa",
           "#EF553B",
           "#00cc96",
           "#ab63fa",
           "#FFA15A",
           "#19d3f3",
           "#FF6692",
           "#B6E880",
           "#FF97FF",
           "#FECB52"
          ],
          "font": {
           "color": "#2a3f5f"
          },
          "geo": {
           "bgcolor": "white",
           "lakecolor": "white",
           "landcolor": "#E5ECF6",
           "showlakes": true,
           "showland": true,
           "subunitcolor": "white"
          },
          "hoverlabel": {
           "align": "left"
          },
          "hovermode": "closest",
          "mapbox": {
           "style": "light"
          },
          "paper_bgcolor": "white",
          "plot_bgcolor": "#E5ECF6",
          "polar": {
           "angularaxis": {
            "gridcolor": "white",
            "linecolor": "white",
            "ticks": ""
           },
           "bgcolor": "#E5ECF6",
           "radialaxis": {
            "gridcolor": "white",
            "linecolor": "white",
            "ticks": ""
           }
          },
          "scene": {
           "xaxis": {
            "backgroundcolor": "#E5ECF6",
            "gridcolor": "white",
            "gridwidth": 2,
            "linecolor": "white",
            "showbackground": true,
            "ticks": "",
            "zerolinecolor": "white"
           },
           "yaxis": {
            "backgroundcolor": "#E5ECF6",
            "gridcolor": "white",
            "gridwidth": 2,
            "linecolor": "white",
            "showbackground": true,
            "ticks": "",
            "zerolinecolor": "white"
           },
           "zaxis": {
            "backgroundcolor": "#E5ECF6",
            "gridcolor": "white",
            "gridwidth": 2,
            "linecolor": "white",
            "showbackground": true,
            "ticks": "",
            "zerolinecolor": "white"
           }
          },
          "shapedefaults": {
           "line": {
            "color": "#2a3f5f"
           }
          },
          "ternary": {
           "aaxis": {
            "gridcolor": "white",
            "linecolor": "white",
            "ticks": ""
           },
           "baxis": {
            "gridcolor": "white",
            "linecolor": "white",
            "ticks": ""
           },
           "bgcolor": "#E5ECF6",
           "caxis": {
            "gridcolor": "white",
            "linecolor": "white",
            "ticks": ""
           }
          },
          "title": {
           "x": 0.05
          },
          "xaxis": {
           "automargin": true,
           "gridcolor": "white",
           "linecolor": "white",
           "ticks": "",
           "title": {
            "standoff": 15
           },
           "zerolinecolor": "white",
           "zerolinewidth": 2
          },
          "yaxis": {
           "automargin": true,
           "gridcolor": "white",
           "linecolor": "white",
           "ticks": "",
           "title": {
            "standoff": 15
           },
           "zerolinecolor": "white",
           "zerolinewidth": 2
          }
         }
        },
        "title": {
         "text": "Market Implied Volatility Surface (Mesh) vs Calibrated Heston IV (Markers)"
        },
        "width": 1200
       }
      }
     },
     "metadata": {},
     "output_type": "display_data"
    }
   ],
   "source": [
    "import plotly.graph_objs as go\n",
    "\n",
    "# Filtrer les lignes où IV ou IV_Heston est égal à zéro\n",
    "df_plot = df_pricing[(df_pricing['IV'] > 0.001) & (df_pricing['IV_Heston'] > 0.001)]\n",
    "\n",
    "fig = go.Figure()\n",
    "\n",
    "# Market IV as Mesh\n",
    "fig.add_trace(go.Mesh3d(x=df_plot['Maturity'], y=df_plot['Strike'], z=df_plot['IV'],\n",
    "                        color='blue',\n",
    "                        opacity=0.4,\n",
    "                        name='Market IV'))\n",
    "\n",
    "# Heston IV as Markers\n",
    "fig.add_trace(go.Scatter3d(x=df_plot['Maturity'], y=df_plot['Strike'], z=df_plot['IV_Heston'],\n",
    "                           mode='markers',\n",
    "                           marker=dict(size=7, color='red'),\n",
    "                           name='Heston IV'\n",
    "                           ))\n",
    "\n",
    "fig.update_layout(title_text=\"Market Implied Volatility Surface (Mesh) vs Calibrated Heston IV (Markers)\",\n",
    "                  scene=dict(xaxis_title='MATURITY', yaxis_title='STRIKE', zaxis_title='IMPLIED VOLATILITY'),\n",
    "                  width=1200,\n",
    "                  height=1000,\n",
    "                  legend=dict(x=0.05, y=0.95))\n",
    "\n",
    "fig.show()\n"
   ]
  },
  {
   "cell_type": "code",
   "execution_count": null,
   "id": "68eca4fe",
   "metadata": {},
   "outputs": [],
   "source": []
  },
  {
   "cell_type": "code",
   "execution_count": null,
   "id": "5b488666",
   "metadata": {},
   "outputs": [],
   "source": []
  }
 ],
 "metadata": {
  "kernelspec": {
   "display_name": "Python 3",
   "language": "python",
   "name": "python3"
  },
  "language_info": {
   "codemirror_mode": {
    "name": "ipython",
    "version": 3
   },
   "file_extension": ".py",
   "mimetype": "text/x-python",
   "name": "python",
   "nbconvert_exporter": "python",
   "pygments_lexer": "ipython3",
   "version": "3.11.9"
  }
 },
 "nbformat": 4,
 "nbformat_minor": 5
}
